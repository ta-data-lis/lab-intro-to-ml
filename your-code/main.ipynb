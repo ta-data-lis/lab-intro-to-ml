{
 "cells": [
  {
   "cell_type": "markdown",
   "metadata": {},
   "source": [
    "# Before your start:\n",
    "- Read the README.md file\n",
    "- Comment as much as you can and use the resources in the README.md file\n",
    "- Happy learning!"
   ]
  },
  {
   "cell_type": "code",
   "execution_count": 109,
   "metadata": {},
   "outputs": [],
   "source": [
    "import pandas as pd\n",
    "import numpy as np\n",
    "import matplotlib.pyplot as plt\n",
    "import seaborn as sns\n",
    "from datetime import datetime\n",
    "from sklearn.model_selection import train_test_split"
   ]
  },
  {
   "cell_type": "markdown",
   "metadata": {},
   "source": [
    "\n",
    "# Challenge 1 - Import and Describe the Dataset"
   ]
  },
  {
   "cell_type": "markdown",
   "metadata": {},
   "source": [
    "#### In this challenge we will use the `austin_weather` data. \n",
    "\n",
    "#### First, import it into a data frame called `austin`. "
   ]
  },
  {
   "cell_type": "code",
   "execution_count": 73,
   "metadata": {},
   "outputs": [
    {
     "data": {
      "text/html": [
       "<div>\n",
       "<style scoped>\n",
       "    .dataframe tbody tr th:only-of-type {\n",
       "        vertical-align: middle;\n",
       "    }\n",
       "\n",
       "    .dataframe tbody tr th {\n",
       "        vertical-align: top;\n",
       "    }\n",
       "\n",
       "    .dataframe thead th {\n",
       "        text-align: right;\n",
       "    }\n",
       "</style>\n",
       "<table border=\"1\" class=\"dataframe\">\n",
       "  <thead>\n",
       "    <tr style=\"text-align: right;\">\n",
       "      <th></th>\n",
       "      <th>Date</th>\n",
       "      <th>TempHighF</th>\n",
       "      <th>TempAvgF</th>\n",
       "      <th>TempLowF</th>\n",
       "      <th>DewPointHighF</th>\n",
       "      <th>DewPointAvgF</th>\n",
       "      <th>DewPointLowF</th>\n",
       "      <th>HumidityHighPercent</th>\n",
       "      <th>HumidityAvgPercent</th>\n",
       "      <th>HumidityLowPercent</th>\n",
       "      <th>...</th>\n",
       "      <th>SeaLevelPressureAvgInches</th>\n",
       "      <th>SeaLevelPressureLowInches</th>\n",
       "      <th>VisibilityHighMiles</th>\n",
       "      <th>VisibilityAvgMiles</th>\n",
       "      <th>VisibilityLowMiles</th>\n",
       "      <th>WindHighMPH</th>\n",
       "      <th>WindAvgMPH</th>\n",
       "      <th>WindGustMPH</th>\n",
       "      <th>PrecipitationSumInches</th>\n",
       "      <th>Events</th>\n",
       "    </tr>\n",
       "  </thead>\n",
       "  <tbody>\n",
       "    <tr>\n",
       "      <th>0</th>\n",
       "      <td>2013-12-21</td>\n",
       "      <td>74</td>\n",
       "      <td>60</td>\n",
       "      <td>45</td>\n",
       "      <td>67</td>\n",
       "      <td>49</td>\n",
       "      <td>43</td>\n",
       "      <td>93</td>\n",
       "      <td>75</td>\n",
       "      <td>57</td>\n",
       "      <td>...</td>\n",
       "      <td>29.68</td>\n",
       "      <td>29.59</td>\n",
       "      <td>10</td>\n",
       "      <td>7</td>\n",
       "      <td>2</td>\n",
       "      <td>20</td>\n",
       "      <td>4</td>\n",
       "      <td>31</td>\n",
       "      <td>0.46</td>\n",
       "      <td>Rain , Thunderstorm</td>\n",
       "    </tr>\n",
       "    <tr>\n",
       "      <th>1</th>\n",
       "      <td>2013-12-22</td>\n",
       "      <td>56</td>\n",
       "      <td>48</td>\n",
       "      <td>39</td>\n",
       "      <td>43</td>\n",
       "      <td>36</td>\n",
       "      <td>28</td>\n",
       "      <td>93</td>\n",
       "      <td>68</td>\n",
       "      <td>43</td>\n",
       "      <td>...</td>\n",
       "      <td>30.13</td>\n",
       "      <td>29.87</td>\n",
       "      <td>10</td>\n",
       "      <td>10</td>\n",
       "      <td>5</td>\n",
       "      <td>16</td>\n",
       "      <td>6</td>\n",
       "      <td>25</td>\n",
       "      <td>0</td>\n",
       "      <td></td>\n",
       "    </tr>\n",
       "    <tr>\n",
       "      <th>2</th>\n",
       "      <td>2013-12-23</td>\n",
       "      <td>58</td>\n",
       "      <td>45</td>\n",
       "      <td>32</td>\n",
       "      <td>31</td>\n",
       "      <td>27</td>\n",
       "      <td>23</td>\n",
       "      <td>76</td>\n",
       "      <td>52</td>\n",
       "      <td>27</td>\n",
       "      <td>...</td>\n",
       "      <td>30.49</td>\n",
       "      <td>30.41</td>\n",
       "      <td>10</td>\n",
       "      <td>10</td>\n",
       "      <td>10</td>\n",
       "      <td>8</td>\n",
       "      <td>3</td>\n",
       "      <td>12</td>\n",
       "      <td>0</td>\n",
       "      <td></td>\n",
       "    </tr>\n",
       "    <tr>\n",
       "      <th>3</th>\n",
       "      <td>2013-12-24</td>\n",
       "      <td>61</td>\n",
       "      <td>46</td>\n",
       "      <td>31</td>\n",
       "      <td>36</td>\n",
       "      <td>28</td>\n",
       "      <td>21</td>\n",
       "      <td>89</td>\n",
       "      <td>56</td>\n",
       "      <td>22</td>\n",
       "      <td>...</td>\n",
       "      <td>30.45</td>\n",
       "      <td>30.3</td>\n",
       "      <td>10</td>\n",
       "      <td>10</td>\n",
       "      <td>7</td>\n",
       "      <td>12</td>\n",
       "      <td>4</td>\n",
       "      <td>20</td>\n",
       "      <td>0</td>\n",
       "      <td></td>\n",
       "    </tr>\n",
       "    <tr>\n",
       "      <th>4</th>\n",
       "      <td>2013-12-25</td>\n",
       "      <td>58</td>\n",
       "      <td>50</td>\n",
       "      <td>41</td>\n",
       "      <td>44</td>\n",
       "      <td>40</td>\n",
       "      <td>36</td>\n",
       "      <td>86</td>\n",
       "      <td>71</td>\n",
       "      <td>56</td>\n",
       "      <td>...</td>\n",
       "      <td>30.33</td>\n",
       "      <td>30.27</td>\n",
       "      <td>10</td>\n",
       "      <td>10</td>\n",
       "      <td>7</td>\n",
       "      <td>10</td>\n",
       "      <td>2</td>\n",
       "      <td>16</td>\n",
       "      <td>T</td>\n",
       "      <td></td>\n",
       "    </tr>\n",
       "  </tbody>\n",
       "</table>\n",
       "<p>5 rows × 21 columns</p>\n",
       "</div>"
      ],
      "text/plain": [
       "         Date  TempHighF  TempAvgF  TempLowF DewPointHighF DewPointAvgF  \\\n",
       "0  2013-12-21         74        60        45            67           49   \n",
       "1  2013-12-22         56        48        39            43           36   \n",
       "2  2013-12-23         58        45        32            31           27   \n",
       "3  2013-12-24         61        46        31            36           28   \n",
       "4  2013-12-25         58        50        41            44           40   \n",
       "\n",
       "  DewPointLowF HumidityHighPercent HumidityAvgPercent HumidityLowPercent  ...  \\\n",
       "0           43                  93                 75                 57  ...   \n",
       "1           28                  93                 68                 43  ...   \n",
       "2           23                  76                 52                 27  ...   \n",
       "3           21                  89                 56                 22  ...   \n",
       "4           36                  86                 71                 56  ...   \n",
       "\n",
       "  SeaLevelPressureAvgInches SeaLevelPressureLowInches VisibilityHighMiles  \\\n",
       "0                     29.68                     29.59                  10   \n",
       "1                     30.13                     29.87                  10   \n",
       "2                     30.49                     30.41                  10   \n",
       "3                     30.45                      30.3                  10   \n",
       "4                     30.33                     30.27                  10   \n",
       "\n",
       "  VisibilityAvgMiles VisibilityLowMiles WindHighMPH WindAvgMPH WindGustMPH  \\\n",
       "0                  7                  2          20          4          31   \n",
       "1                 10                  5          16          6          25   \n",
       "2                 10                 10           8          3          12   \n",
       "3                 10                  7          12          4          20   \n",
       "4                 10                  7          10          2          16   \n",
       "\n",
       "  PrecipitationSumInches               Events  \n",
       "0                   0.46  Rain , Thunderstorm  \n",
       "1                      0                       \n",
       "2                      0                       \n",
       "3                      0                       \n",
       "4                      T                       \n",
       "\n",
       "[5 rows x 21 columns]"
      ]
     },
     "execution_count": 73,
     "metadata": {},
     "output_type": "execute_result"
    }
   ],
   "source": [
    "weather = pd.read_csv(\"austin_weather.csv\")\n",
    "weather.head()"
   ]
  },
  {
   "cell_type": "markdown",
   "metadata": {},
   "source": [
    "#### Next, describe the dataset you have loaded: \n",
    "- Look at the variables and their types\n",
    "- Examine the descriptive statistics of the numeric variables \n",
    "- Look at the first five rows of all variables to evaluate the categorical variables as well"
   ]
  },
  {
   "cell_type": "code",
   "execution_count": 74,
   "metadata": {},
   "outputs": [
    {
     "name": "stdout",
     "output_type": "stream",
     "text": [
      "<class 'pandas.core.frame.DataFrame'>\n",
      "RangeIndex: 1319 entries, 0 to 1318\n",
      "Data columns (total 21 columns):\n",
      " #   Column                      Non-Null Count  Dtype \n",
      "---  ------                      --------------  ----- \n",
      " 0   Date                        1319 non-null   object\n",
      " 1   TempHighF                   1319 non-null   int64 \n",
      " 2   TempAvgF                    1319 non-null   int64 \n",
      " 3   TempLowF                    1319 non-null   int64 \n",
      " 4   DewPointHighF               1319 non-null   object\n",
      " 5   DewPointAvgF                1319 non-null   object\n",
      " 6   DewPointLowF                1319 non-null   object\n",
      " 7   HumidityHighPercent         1319 non-null   object\n",
      " 8   HumidityAvgPercent          1319 non-null   object\n",
      " 9   HumidityLowPercent          1319 non-null   object\n",
      " 10  SeaLevelPressureHighInches  1319 non-null   object\n",
      " 11  SeaLevelPressureAvgInches   1319 non-null   object\n",
      " 12  SeaLevelPressureLowInches   1319 non-null   object\n",
      " 13  VisibilityHighMiles         1319 non-null   object\n",
      " 14  VisibilityAvgMiles          1319 non-null   object\n",
      " 15  VisibilityLowMiles          1319 non-null   object\n",
      " 16  WindHighMPH                 1319 non-null   object\n",
      " 17  WindAvgMPH                  1319 non-null   object\n",
      " 18  WindGustMPH                 1319 non-null   object\n",
      " 19  PrecipitationSumInches      1319 non-null   object\n",
      " 20  Events                      1319 non-null   object\n",
      "dtypes: int64(3), object(18)\n",
      "memory usage: 216.5+ KB\n"
     ]
    }
   ],
   "source": [
    "weather.info()"
   ]
  },
  {
   "cell_type": "code",
   "execution_count": 75,
   "metadata": {},
   "outputs": [
    {
     "data": {
      "text/html": [
       "<div>\n",
       "<style scoped>\n",
       "    .dataframe tbody tr th:only-of-type {\n",
       "        vertical-align: middle;\n",
       "    }\n",
       "\n",
       "    .dataframe tbody tr th {\n",
       "        vertical-align: top;\n",
       "    }\n",
       "\n",
       "    .dataframe thead th {\n",
       "        text-align: right;\n",
       "    }\n",
       "</style>\n",
       "<table border=\"1\" class=\"dataframe\">\n",
       "  <thead>\n",
       "    <tr style=\"text-align: right;\">\n",
       "      <th></th>\n",
       "      <th>TempHighF</th>\n",
       "      <th>TempAvgF</th>\n",
       "      <th>TempLowF</th>\n",
       "    </tr>\n",
       "  </thead>\n",
       "  <tbody>\n",
       "    <tr>\n",
       "      <th>count</th>\n",
       "      <td>1319.000000</td>\n",
       "      <td>1319.000000</td>\n",
       "      <td>1319.000000</td>\n",
       "    </tr>\n",
       "    <tr>\n",
       "      <th>mean</th>\n",
       "      <td>80.862775</td>\n",
       "      <td>70.642911</td>\n",
       "      <td>59.902957</td>\n",
       "    </tr>\n",
       "    <tr>\n",
       "      <th>std</th>\n",
       "      <td>14.766523</td>\n",
       "      <td>14.045904</td>\n",
       "      <td>14.190648</td>\n",
       "    </tr>\n",
       "    <tr>\n",
       "      <th>min</th>\n",
       "      <td>32.000000</td>\n",
       "      <td>29.000000</td>\n",
       "      <td>19.000000</td>\n",
       "    </tr>\n",
       "    <tr>\n",
       "      <th>25%</th>\n",
       "      <td>72.000000</td>\n",
       "      <td>62.000000</td>\n",
       "      <td>49.000000</td>\n",
       "    </tr>\n",
       "    <tr>\n",
       "      <th>50%</th>\n",
       "      <td>83.000000</td>\n",
       "      <td>73.000000</td>\n",
       "      <td>63.000000</td>\n",
       "    </tr>\n",
       "    <tr>\n",
       "      <th>75%</th>\n",
       "      <td>92.000000</td>\n",
       "      <td>83.000000</td>\n",
       "      <td>73.000000</td>\n",
       "    </tr>\n",
       "    <tr>\n",
       "      <th>max</th>\n",
       "      <td>107.000000</td>\n",
       "      <td>93.000000</td>\n",
       "      <td>81.000000</td>\n",
       "    </tr>\n",
       "  </tbody>\n",
       "</table>\n",
       "</div>"
      ],
      "text/plain": [
       "         TempHighF     TempAvgF     TempLowF\n",
       "count  1319.000000  1319.000000  1319.000000\n",
       "mean     80.862775    70.642911    59.902957\n",
       "std      14.766523    14.045904    14.190648\n",
       "min      32.000000    29.000000    19.000000\n",
       "25%      72.000000    62.000000    49.000000\n",
       "50%      83.000000    73.000000    63.000000\n",
       "75%      92.000000    83.000000    73.000000\n",
       "max     107.000000    93.000000    81.000000"
      ]
     },
     "execution_count": 75,
     "metadata": {},
     "output_type": "execute_result"
    }
   ],
   "source": [
    "weather.describe()"
   ]
  },
  {
   "cell_type": "code",
   "execution_count": 76,
   "metadata": {},
   "outputs": [
    {
     "name": "stdout",
     "output_type": "stream",
     "text": [
      "         Date  TempHighF  TempAvgF  TempLowF DewPointHighF DewPointAvgF  \\\n",
      "0  2013-12-21         74        60        45            67           49   \n",
      "1  2013-12-22         56        48        39            43           36   \n",
      "2  2013-12-23         58        45        32            31           27   \n",
      "3  2013-12-24         61        46        31            36           28   \n",
      "4  2013-12-25         58        50        41            44           40   \n",
      "\n",
      "  DewPointLowF HumidityHighPercent HumidityAvgPercent HumidityLowPercent  ...  \\\n",
      "0           43                  93                 75                 57  ...   \n",
      "1           28                  93                 68                 43  ...   \n",
      "2           23                  76                 52                 27  ...   \n",
      "3           21                  89                 56                 22  ...   \n",
      "4           36                  86                 71                 56  ...   \n",
      "\n",
      "  SeaLevelPressureAvgInches SeaLevelPressureLowInches VisibilityHighMiles  \\\n",
      "0                     29.68                     29.59                  10   \n",
      "1                     30.13                     29.87                  10   \n",
      "2                     30.49                     30.41                  10   \n",
      "3                     30.45                      30.3                  10   \n",
      "4                     30.33                     30.27                  10   \n",
      "\n",
      "  VisibilityAvgMiles VisibilityLowMiles WindHighMPH WindAvgMPH WindGustMPH  \\\n",
      "0                  7                  2          20          4          31   \n",
      "1                 10                  5          16          6          25   \n",
      "2                 10                 10           8          3          12   \n",
      "3                 10                  7          12          4          20   \n",
      "4                 10                  7          10          2          16   \n",
      "\n",
      "  PrecipitationSumInches               Events  \n",
      "0                   0.46  Rain , Thunderstorm  \n",
      "1                      0                       \n",
      "2                      0                       \n",
      "3                      0                       \n",
      "4                      T                       \n",
      "\n",
      "[5 rows x 21 columns]\n"
     ]
    }
   ],
   "source": [
    "categorical_data = weather.head()\n",
    "print(categorical_data)"
   ]
  },
  {
   "cell_type": "markdown",
   "metadata": {},
   "source": [
    "#### Given the information you have learned from examining the dataset, write down three insights about the data in a markdown cell below"
   ]
  },
  {
   "cell_type": "markdown",
   "metadata": {},
   "source": [
    "#### Your Insights:\n",
    "\n",
    "1. There are 21 variables in the dataset. 3 of them are numeric and the rest contain some text.\n",
    "\n",
    "2. The average temperature in Austin ranged between around 70 degrees F and around 93 degrees F. The highest temperature observed during this period was 107 degrees F and the lowest was 19 degrees F.\n",
    "\n",
    "3. When we look at the head function, we see that a lot of variables contain numeric data even though these columns are of object type. This means we might have to do some data cleansing.\n"
   ]
  },
  {
   "cell_type": "markdown",
   "metadata": {},
   "source": [
    "#### Let's examine the DewPointAvgF variable by using the `unique()` function to list all unique values in this dataframe.\n",
    "\n",
    "Describe what you find in a markdown cell below the code. What did you notice? What do you think made Pandas to treat this column as *object* instead of *int64*? "
   ]
  },
  {
   "cell_type": "code",
   "execution_count": 78,
   "metadata": {},
   "outputs": [
    {
     "ename": "SyntaxError",
     "evalue": "unterminated string literal (detected at line 3) (3931476438.py, line 3)",
     "output_type": "error",
     "traceback": [
      "\u001b[0;36m  Cell \u001b[0;32mIn[78], line 3\u001b[0;36m\u001b[0m\n\u001b[0;31m    2. **Temperature Ranges:** Analysis of the temperature data reveals that the average temperature in Austin spanned from approximately 70 degrees Fahrenheit to around 93 degrees Fahrenheit during the observed period. Notably, the highest recorded temperature reached 107 degrees Fahrenheit, while the lowest recorded temperature dropped to 19 degrees Fahrenheit. These temperature ranges provide a comprehensive view of the climatic conditions in Austin over the dataset's timeframe.\u001b[0m\n\u001b[0m                                                                                                                                                                                                                                                                                                                                                                                                                                                                                         ^\u001b[0m\n\u001b[0;31mSyntaxError\u001b[0m\u001b[0;31m:\u001b[0m unterminated string literal (detected at line 3)\n"
     ]
    }
   ],
   "source": [
    "1. **Variable Types:** The dataset comprises a total of 21 variables. While the majority of these variables contain text (categorical) data, three variables are numeric in nature. This diverse mix of variable types indicates a combination of categorical and numeric information.\n",
    "\n",
    "2. **Temperature Ranges:** Analysis of the temperature data reveals that the average temperature in Austin spanned from approximately 70 degrees Fahrenheit to around 93 degrees Fahrenheit during the observed period. Notably, the highest recorded temperature reached 107 degrees Fahrenheit, while the lowest recorded temperature dropped to 19 degrees Fahrenheit. These temperature ranges provide a comprehensive view of the climatic conditions in Austin over the dataset's timeframe.\n",
    "\n",
    "3. **Data Cleansing Consideration:** Upon inspecting the initial rows of the dataset using the `head()` function, it becomes evident that several columns, initially categorized as object type (text), contain numeric data. This discrepancy implies potential data quality concerns, such as inconsistent formatting or entries. Consequently, data cleansing and transformation may be necessary to ensure accurate analysis using these columns.\n"
   ]
  },
  {
   "cell_type": "code",
   "execution_count": 77,
   "metadata": {},
   "outputs": [
    {
     "name": "stdout",
     "output_type": "stream",
     "text": [
      "['49' '36' '27' '28' '40' '39' '41' '26' '42' '22' '48' '32' '8' '11' '45'\n",
      " '55' '61' '37' '47' '25' '23' '20' '33' '30' '29' '17' '14' '13' '54'\n",
      " '59' '15' '24' '34' '35' '57' '50' '53' '60' '46' '56' '51' '31' '38'\n",
      " '62' '43' '63' '64' '67' '66' '58' '70' '68' '65' '69' '71' '72' '-' '73'\n",
      " '74' '21' '44' '52' '12' '75' '76' '18']\n"
     ]
    }
   ],
   "source": [
    "unique_dewpoints = weather['DewPointAvgF'].unique()\n",
    "print(unique_dewpoints)\n"
   ]
  },
  {
   "cell_type": "code",
   "execution_count": null,
   "metadata": {},
   "outputs": [],
   "source": [
    "#the unique values in the \"DewPointAvgF\" column reveal a combination of numeric and non-numeric entries, which has led to the column being treated as an object type. To utilize this data accurately, it's crucial to address data inconsistencies and perform appropriate data cleansing and transformation."
   ]
  },
  {
   "cell_type": "markdown",
   "metadata": {},
   "source": [
    "The following is a list of columns misrepresented as `object`. Use this list to convert the columns to numeric using the `pandas.to_numeric` function in the next cell. If you encounter errors in converting strings to numeric values, you need to catch those errors and force the conversion by supplying `errors='coerce'` as an argument for `pandas.to_numeric`. Coercing will replace non-convertable elements with `NaN` which represents an undefined numeric value. This makes it possible for us to conveniently handle missing values in subsequent data processing.\n",
    "\n",
    "*Hint: you may use a loop to change one column at a time but it is more efficient to use `apply`.*"
   ]
  },
  {
   "cell_type": "code",
   "execution_count": 79,
   "metadata": {},
   "outputs": [],
   "source": [
    "wrong_type_columns = ['DewPointHighF', 'DewPointAvgF', 'DewPointLowF', 'HumidityHighPercent', \n",
    "                      'HumidityAvgPercent', 'HumidityLowPercent', 'SeaLevelPressureHighInches', \n",
    "                      'SeaLevelPressureAvgInches' ,'SeaLevelPressureLowInches', 'VisibilityHighMiles',\n",
    "                      'VisibilityAvgMiles', 'VisibilityLowMiles', 'WindHighMPH', 'WindAvgMPH', \n",
    "                      'WindGustMPH', 'PrecipitationSumInches']"
   ]
  },
  {
   "cell_type": "code",
   "execution_count": 80,
   "metadata": {},
   "outputs": [],
   "source": [
    "weather[wrong_type_columns] = weather[wrong_type_columns].apply(pd.to_numeric, errors='coerce')"
   ]
  },
  {
   "cell_type": "markdown",
   "metadata": {},
   "source": [
    "#### Check if your code has worked by printing the data types again. You should see only two `object` columns (`Date` and `Events`) now. All other columns should be `int64` or `float64`."
   ]
  },
  {
   "cell_type": "code",
   "execution_count": 81,
   "metadata": {},
   "outputs": [
    {
     "name": "stdout",
     "output_type": "stream",
     "text": [
      "Date                           object\n",
      "TempHighF                       int64\n",
      "TempAvgF                        int64\n",
      "TempLowF                        int64\n",
      "DewPointHighF                 float64\n",
      "DewPointAvgF                  float64\n",
      "DewPointLowF                  float64\n",
      "HumidityHighPercent           float64\n",
      "HumidityAvgPercent            float64\n",
      "HumidityLowPercent            float64\n",
      "SeaLevelPressureHighInches    float64\n",
      "SeaLevelPressureAvgInches     float64\n",
      "SeaLevelPressureLowInches     float64\n",
      "VisibilityHighMiles           float64\n",
      "VisibilityAvgMiles            float64\n",
      "VisibilityLowMiles            float64\n",
      "WindHighMPH                   float64\n",
      "WindAvgMPH                    float64\n",
      "WindGustMPH                   float64\n",
      "PrecipitationSumInches        float64\n",
      "Events                         object\n",
      "dtype: object\n"
     ]
    }
   ],
   "source": [
    "print(weather.dtypes)"
   ]
  },
  {
   "cell_type": "markdown",
   "metadata": {},
   "source": [
    "# Challenge 2 - Handle the Missing Data"
   ]
  },
  {
   "cell_type": "markdown",
   "metadata": {},
   "source": [
    "#### Now that we have fixed the type mismatch, let's address the missing data.\n",
    "\n",
    "By coercing the columns to numeric, we have created `NaN` for each cell containing characters. We should choose a strategy to address these missing data.\n",
    "\n",
    "The first step is to examine how many rows contain missing data.\n",
    "\n",
    "We check how much missing data we have by applying the `.isnull()` function to our dataset. To find the rows with missing data in any of its cells, we apply `.any(axis=1)` to the function. `austin.isnull().any(axis=1)` will return a column containing true if the row contains at least one missing value and false otherwise. Therefore we must subset our dataframe with this column. This will give us all rows with at least one missing value. \n",
    "\n",
    "#### In the next cell, identify all rows containing at least one missing value. Assign the dataframes with missing values to a variable called `missing_values`."
   ]
  },
  {
   "cell_type": "code",
   "execution_count": 82,
   "metadata": {},
   "outputs": [],
   "source": [
    "rows_with_missing = weather[weather.isnull().any(axis=1)]\n",
    "missing_values = rows_with_missing"
   ]
  },
  {
   "cell_type": "markdown",
   "metadata": {},
   "source": [
    "There are multiple strategies to handle missing data. Below lists the most common ones data scientists use:\n",
    "\n",
    "* Removing all rows or all columns containing missing data. This is the simplest strategy. It may work in some cases but not others.\n",
    "\n",
    "* Filling all missing values with a placeholder value. \n",
    "    * For categorical data, `0`, `-1`, and `9999` are some commonly used placeholder values. \n",
    "    * For continuous data, some may opt to fill all missing data with the mean. This strategy is not optimal since it can increase the fit of the model.\n",
    "\n",
    "* Filling the values using some algorithm. \n",
    "\n",
    "#### In our case, we will use a hybrid approach which is to first remove the data that contain most missing values then fill in the rest of the missing values with the *linear interpolation* algorithm."
   ]
  },
  {
   "cell_type": "markdown",
   "metadata": {},
   "source": [
    "#### Next, count the number of rows of `austin` and `missing_values`."
   ]
  },
  {
   "cell_type": "code",
   "execution_count": 85,
   "metadata": {},
   "outputs": [
    {
     "name": "stdout",
     "output_type": "stream",
     "text": [
      "Number of rows in 'weather': 1319\n",
      "Number of rows in 'missing_values': 136\n"
     ]
    },
    {
     "name": "stderr",
     "output_type": "stream",
     "text": [
      "/var/folders/wj/9yy2qymx1q58s3n2gkl01vj00000gn/T/ipykernel_3401/2686672458.py:3: SettingWithCopyWarning: \n",
      "A value is trying to be set on a copy of a slice from a DataFrame\n",
      "\n",
      "See the caveats in the documentation: https://pandas.pydata.org/pandas-docs/stable/user_guide/indexing.html#returning-a-view-versus-a-copy\n",
      "  weather_cleaned.interpolate(method='linear', inplace=True)\n"
     ]
    }
   ],
   "source": [
    "threshold = len(weather.columns) * 0.5  \n",
    "weather_cleaned = weather.dropna(thresh=threshold)\n",
    "weather_cleaned.interpolate(method='linear', inplace=True)\n",
    "num_rows_weather = len(weather)\n",
    "num_rows_missing = len(missing_values)\n",
    "print(\"Number of rows in 'weather':\", num_rows_weather)\n",
    "print(\"Number of rows in 'missing_values':\", num_rows_missing)"
   ]
  },
  {
   "cell_type": "markdown",
   "metadata": {},
   "source": [
    "#### Calculate the ratio of missing rows to total rows"
   ]
  },
  {
   "cell_type": "code",
   "execution_count": 86,
   "metadata": {},
   "outputs": [
    {
     "name": "stdout",
     "output_type": "stream",
     "text": [
      "Ratio of missing rows to total rows: 0.10310841546626232\n"
     ]
    }
   ],
   "source": [
    "missing_ratio = num_rows_missing / num_rows_weather\n",
    "print(\"Ratio of missing rows to total rows:\", missing_ratio)"
   ]
  },
  {
   "cell_type": "markdown",
   "metadata": {},
   "source": [
    "As you can see, there is a large proportion of missing data (over 10%). Perhaps we should evaluate which columns have the most missing data and remove those columns. For the remaining columns, we will perform a linear approximation of the missing data.\n",
    "\n",
    "We can find the number of missing rows in each column using the `.isna()` function. We then chain the `.sum` function to the `.isna()` function and find the number of missing rows per column"
   ]
  },
  {
   "cell_type": "code",
   "execution_count": 87,
   "metadata": {},
   "outputs": [
    {
     "name": "stdout",
     "output_type": "stream",
     "text": [
      "Columns with the most missing data:\n",
      "PrecipitationSumInches        124\n",
      "VisibilityHighMiles            12\n",
      "VisibilityAvgMiles             12\n",
      "VisibilityLowMiles             12\n",
      "DewPointHighF                   7\n",
      "DewPointAvgF                    7\n",
      "DewPointLowF                    7\n",
      "WindGustMPH                     4\n",
      "SeaLevelPressureHighInches      3\n",
      "SeaLevelPressureAvgInches       3\n",
      "SeaLevelPressureLowInches       3\n",
      "HumidityHighPercent             2\n",
      "HumidityAvgPercent              2\n",
      "HumidityLowPercent              2\n",
      "WindHighMPH                     2\n",
      "WindAvgMPH                      2\n",
      "dtype: int64\n"
     ]
    }
   ],
   "source": [
    "missing_rows_per_column = weather.isna().sum()\n",
    "columns_with_most_missing = missing_rows_per_column[missing_rows_per_column > 0].sort_values(ascending=False)\n",
    "\n",
    "\n",
    "print(\"Columns with the most missing data:\")\n",
    "print(columns_with_most_missing)"
   ]
  },
  {
   "cell_type": "markdown",
   "metadata": {},
   "source": [
    "#### As you can see from the output, the majority of missing data is in one column called `PrecipitationSumInches`. What's the number of missing values in this column in ratio to its total number of rows?"
   ]
  },
  {
   "cell_type": "code",
   "execution_count": 88,
   "metadata": {},
   "outputs": [
    {
     "name": "stdout",
     "output_type": "stream",
     "text": [
      "Number of missing values in 'PrecipitationSumInches' column: 124\n",
      "Ratio of missing values to total rows in 'PrecipitationSumInches' column: 0.09401061410159212\n"
     ]
    }
   ],
   "source": [
    "missing_values_precipitation = missing_rows_per_column[\"PrecipitationSumInches\"]\n",
    "ratio_precipitation = missing_values_precipitation / num_rows_weather\n",
    "print(\"Number of missing values in 'PrecipitationSumInches' column:\", missing_values_precipitation)\n",
    "print(\"Ratio of missing values to total rows in 'PrecipitationSumInches' column:\", ratio_precipitation)"
   ]
  },
  {
   "cell_type": "markdown",
   "metadata": {},
   "source": [
    "Almost 10% data missing! Therefore, we prefer to remove this column instead of filling its missing values. \n",
    "\n",
    "#### Remove this column from `austin` using the `.drop()` function. Use the `inplace=True` argument.\n",
    "\n",
    "*Hints:*\n",
    "\n",
    "* By supplying `inplace=True` to `drop()`, the original dataframe object will be changed in place and the function will return `None`. In contrast, if you don't supply `inplace=True`, which is equivalent to supplying `inplace=False` because `False` is the default value, the original dataframe object will be kept and the function returns a copy of the transformed dataframe object. In the latter case, you'll have to assign the returned object back to your variable.\n",
    "\n",
    "* Also, since you are dropping a column instead of a row, you'll need to supply `axis=1` to `drop()`.\n",
    "\n",
    "[Reference for `pandas.DataFrame.drop`](https://pandas.pydata.org/pandas-docs/stable/generated/pandas.DataFrame.drop.html)"
   ]
  },
  {
   "cell_type": "code",
   "execution_count": 94,
   "metadata": {},
   "outputs": [
    {
     "name": "stdout",
     "output_type": "stream",
     "text": [
      "Index(['Date', 'TempHighF', 'TempAvgF', 'TempLowF', 'DewPointHighF',\n",
      "       'DewPointAvgF', 'DewPointLowF', 'HumidityHighPercent',\n",
      "       'HumidityAvgPercent', 'HumidityLowPercent',\n",
      "       'SeaLevelPressureHighInches', 'SeaLevelPressureAvgInches',\n",
      "       'SeaLevelPressureLowInches', 'VisibilityHighMiles',\n",
      "       'VisibilityAvgMiles', 'VisibilityLowMiles', 'WindHighMPH', 'WindAvgMPH',\n",
      "       'WindGustMPH', 'Events'],\n",
      "      dtype='object')\n"
     ]
    }
   ],
   "source": [
    "print(weather.columns)"
   ]
  },
  {
   "cell_type": "markdown",
   "metadata": {},
   "source": [
    "#### Next we will perform linear interpolation of the missing data.\n",
    "\n",
    "This means that we will use a linear algorithm to estimate the missing data. Linear interpolation assumes that there is a straight line between the points and the missing point will fall on that line. This is a good enough approximation for weather related data. Weather related data is typically a time series. Therefore, we do not want to drop rows from our data if possible. It is prefereable to estimate the missing values rather than remove the rows. However, if you have data from a single point in time, perhaps a better solution would be to remove the rows. \n",
    "\n",
    "If you would like to read more about linear interpolation, you can do so [here](https://en.wikipedia.org/wiki/Linear_interpolation).\n",
    "\n",
    "In the following cell, use the `.interpolate()` function on the entire dataframe. This time pass the `inplace=False` argument to the function and assign the interpolated dataframe to a new variable called `austin_fixed` so that we can compare with `austin`."
   ]
  },
  {
   "cell_type": "code",
   "execution_count": 95,
   "metadata": {},
   "outputs": [
    {
     "name": "stdout",
     "output_type": "stream",
     "text": [
      "            Date  TempHighF  TempAvgF  TempLowF  DewPointHighF  DewPointAvgF  \\\n",
      "0     2013-12-21         74        60        45           67.0          49.0   \n",
      "1     2013-12-22         56        48        39           43.0          36.0   \n",
      "2     2013-12-23         58        45        32           31.0          27.0   \n",
      "3     2013-12-24         61        46        31           36.0          28.0   \n",
      "4     2013-12-25         58        50        41           44.0          40.0   \n",
      "...          ...        ...       ...       ...            ...           ...   \n",
      "1314  2017-07-27        103        89        75           71.0          67.0   \n",
      "1315  2017-07-28        105        91        76           71.0          64.0   \n",
      "1316  2017-07-29        107        92        77           72.0          64.0   \n",
      "1317  2017-07-30        106        93        79           70.0          68.0   \n",
      "1318  2017-07-31         99        88        77           66.0          61.0   \n",
      "\n",
      "      DewPointLowF  HumidityHighPercent  HumidityAvgPercent  \\\n",
      "0             43.0                 93.0                75.0   \n",
      "1             28.0                 93.0                68.0   \n",
      "2             23.0                 76.0                52.0   \n",
      "3             21.0                 89.0                56.0   \n",
      "4             36.0                 86.0                71.0   \n",
      "...            ...                  ...                 ...   \n",
      "1314          61.0                 82.0                54.0   \n",
      "1315          55.0                 87.0                54.0   \n",
      "1316          55.0                 82.0                51.0   \n",
      "1317          63.0                 69.0                48.0   \n",
      "1318          54.0                 64.0                43.0   \n",
      "\n",
      "      HumidityLowPercent  SeaLevelPressureHighInches  \\\n",
      "0                   57.0                       29.86   \n",
      "1                   43.0                       30.41   \n",
      "2                   27.0                       30.56   \n",
      "3                   22.0                       30.56   \n",
      "4                   56.0                       30.41   \n",
      "...                  ...                         ...   \n",
      "1314                25.0                       30.04   \n",
      "1315                20.0                       29.97   \n",
      "1316                19.0                       29.91   \n",
      "1317                27.0                       29.96   \n",
      "1318                22.0                       30.04   \n",
      "\n",
      "      SeaLevelPressureAvgInches  SeaLevelPressureLowInches  \\\n",
      "0                         29.68                      29.59   \n",
      "1                         30.13                      29.87   \n",
      "2                         30.49                      30.41   \n",
      "3                         30.45                      30.30   \n",
      "4                         30.33                      30.27   \n",
      "...                         ...                        ...   \n",
      "1314                      29.97                      29.88   \n",
      "1315                      29.90                      29.81   \n",
      "1316                      29.86                      29.79   \n",
      "1317                      29.91                      29.87   \n",
      "1318                      29.97                      29.91   \n",
      "\n",
      "      VisibilityHighMiles  VisibilityAvgMiles  VisibilityLowMiles  \\\n",
      "0                    10.0                 7.0                 2.0   \n",
      "1                    10.0                10.0                 5.0   \n",
      "2                    10.0                10.0                10.0   \n",
      "3                    10.0                10.0                 7.0   \n",
      "4                    10.0                10.0                 7.0   \n",
      "...                   ...                 ...                 ...   \n",
      "1314                 10.0                10.0                10.0   \n",
      "1315                 10.0                10.0                10.0   \n",
      "1316                 10.0                10.0                10.0   \n",
      "1317                 10.0                10.0                10.0   \n",
      "1318                 10.0                10.0                10.0   \n",
      "\n",
      "      WindHighMPH  WindAvgMPH  WindGustMPH               Events  \n",
      "0            20.0         4.0         31.0  Rain , Thunderstorm  \n",
      "1            16.0         6.0         25.0                       \n",
      "2             8.0         3.0         12.0                       \n",
      "3            12.0         4.0         20.0                       \n",
      "4            10.0         2.0         16.0                       \n",
      "...           ...         ...          ...                  ...  \n",
      "1314         12.0         5.0         21.0                       \n",
      "1315         14.0         5.0         20.0                       \n",
      "1316         12.0         4.0         17.0                       \n",
      "1317         13.0         4.0         20.0                       \n",
      "1318         12.0         4.0         20.0                       \n",
      "\n",
      "[1319 rows x 20 columns]\n"
     ]
    }
   ],
   "source": [
    "weather_fixed = weather.interpolate(method='linear', inplace=False)\n",
    "print(weather_fixed)"
   ]
  },
  {
   "cell_type": "markdown",
   "metadata": {},
   "source": [
    "#### Check to make sure `austin_fixed` contains no missing data. Also check `austin` - it still contains missing data."
   ]
  },
  {
   "cell_type": "code",
   "execution_count": 96,
   "metadata": {},
   "outputs": [
    {
     "name": "stdout",
     "output_type": "stream",
     "text": [
      "Missing data in weather_fixed:\n",
      "Date                          False\n",
      "TempHighF                     False\n",
      "TempAvgF                      False\n",
      "TempLowF                      False\n",
      "DewPointHighF                 False\n",
      "DewPointAvgF                  False\n",
      "DewPointLowF                  False\n",
      "HumidityHighPercent           False\n",
      "HumidityAvgPercent            False\n",
      "HumidityLowPercent            False\n",
      "SeaLevelPressureHighInches    False\n",
      "SeaLevelPressureAvgInches     False\n",
      "SeaLevelPressureLowInches     False\n",
      "VisibilityHighMiles           False\n",
      "VisibilityAvgMiles            False\n",
      "VisibilityLowMiles            False\n",
      "WindHighMPH                   False\n",
      "WindAvgMPH                    False\n",
      "WindGustMPH                   False\n",
      "Events                        False\n",
      "dtype: bool\n",
      "\n",
      "Missing data in original weather DataFrame:\n",
      "Date                          False\n",
      "TempHighF                     False\n",
      "TempAvgF                      False\n",
      "TempLowF                      False\n",
      "DewPointHighF                  True\n",
      "DewPointAvgF                   True\n",
      "DewPointLowF                   True\n",
      "HumidityHighPercent            True\n",
      "HumidityAvgPercent             True\n",
      "HumidityLowPercent             True\n",
      "SeaLevelPressureHighInches     True\n",
      "SeaLevelPressureAvgInches      True\n",
      "SeaLevelPressureLowInches      True\n",
      "VisibilityHighMiles            True\n",
      "VisibilityAvgMiles             True\n",
      "VisibilityLowMiles             True\n",
      "WindHighMPH                    True\n",
      "WindAvgMPH                     True\n",
      "WindGustMPH                    True\n",
      "Events                        False\n",
      "dtype: bool\n"
     ]
    }
   ],
   "source": [
    "print(\"Missing data in weather_fixed:\")\n",
    "print(weather_fixed.isnull().any())\n",
    "print(\"\\nMissing data in original weather DataFrame:\")\n",
    "print(weather.isnull().any())"
   ]
  },
  {
   "cell_type": "markdown",
   "metadata": {},
   "source": [
    "# Challenge 3 - Processing the `Events` Column"
   ]
  },
  {
   "cell_type": "markdown",
   "metadata": {},
   "source": [
    "#### Our dataframe contains one true text column - the Events column. We should evaluate this column to determine how to process it.\n",
    "\n",
    "Use the `value_counts()` function to evaluate the contents of this column"
   ]
  },
  {
   "cell_type": "code",
   "execution_count": 97,
   "metadata": {},
   "outputs": [
    {
     "name": "stdout",
     "output_type": "stream",
     "text": [
      "                             903\n",
      "Rain                         192\n",
      "Rain , Thunderstorm          137\n",
      "Fog , Rain , Thunderstorm     33\n",
      "Fog                           21\n",
      "Thunderstorm                  17\n",
      "Fog , Rain                    14\n",
      "Rain , Snow                    1\n",
      "Fog , Thunderstorm             1\n",
      "Name: Events, dtype: int64\n"
     ]
    }
   ],
   "source": [
    "events_counts = weather_fixed['Events'].value_counts()\n",
    "print(events_counts)"
   ]
  },
  {
   "cell_type": "markdown",
   "metadata": {},
   "source": [
    "Reading the values of `Events` and reflecting what those values mean in the context of data, you realize this column indicates what weather events had happened in a particular day.\n",
    "\n",
    "#### What is the largest number of events happened in a single day? Enter your answer in the next cell."
   ]
  },
  {
   "cell_type": "code",
   "execution_count": null,
   "metadata": {},
   "outputs": [],
   "source": [
    "#The largest number of weather events that happened in a single day is 33.\n"
   ]
  },
  {
   "cell_type": "markdown",
   "metadata": {},
   "source": [
    "#### Next, populate the actual values in the dummy columns of  `austin_fixed`.\n",
    "\n",
    "You will check the *Events* column. If its string value contains `Rain`, then the *Rain* column should be `1`. The same for `Snow`, `Fog`, and `Thunderstorm`.\n",
    "\n",
    "*Hints:*\n",
    "\n",
    "* Use [`pandas.Series.str.contains()`](https://pandas.pydata.org/pandas-docs/stable/generated/pandas.Series.str.contains.html) to create the value series of each new column.\n",
    "\n",
    "* What if the values you populated are booleans instead of numbers? You can cast the boolean values to numbers by using `.astype(int)`. For instance, `pd.Series([True, True, False]).astype(int)` will return a new series with values of `[1, 1, 0]`."
   ]
  },
  {
   "cell_type": "code",
   "execution_count": 102,
   "metadata": {},
   "outputs": [
    {
     "name": "stdout",
     "output_type": "stream",
     "text": [
      "   Rain  Snow  Fog  Thunderstorm\n",
      "0     1     0    0             1\n",
      "1     0     0    0             0\n",
      "2     0     0    0             0\n",
      "3     0     0    0             0\n",
      "4     0     0    0             0\n"
     ]
    }
   ],
   "source": [
    "austin_fixed = pd.DataFrame()\n",
    "austin_fixed['Rain'] = weather['Events'].str.contains('Rain').astype(int)\n",
    "austin_fixed['Snow'] = weather['Events'].str.contains('Snow').astype(int)\n",
    "austin_fixed['Fog'] = weather['Events'].str.contains('Fog').astype(int)\n",
    "austin_fixed['Thunderstorm'] = weather['Events'].str.contains('Thunderstorm').astype(int)\n",
    "print(austin_fixed.head())"
   ]
  },
  {
   "cell_type": "markdown",
   "metadata": {},
   "source": [
    "#### Print out `austin_fixed` to check if the event columns are populated with the intended values"
   ]
  },
  {
   "cell_type": "code",
   "execution_count": 103,
   "metadata": {},
   "outputs": [
    {
     "name": "stdout",
     "output_type": "stream",
     "text": [
      "      Rain  Snow  Fog  Thunderstorm\n",
      "0        1     0    0             1\n",
      "1        0     0    0             0\n",
      "2        0     0    0             0\n",
      "3        0     0    0             0\n",
      "4        0     0    0             0\n",
      "...    ...   ...  ...           ...\n",
      "1314     0     0    0             0\n",
      "1315     0     0    0             0\n",
      "1316     0     0    0             0\n",
      "1317     0     0    0             0\n",
      "1318     0     0    0             0\n",
      "\n",
      "[1319 rows x 4 columns]\n"
     ]
    }
   ],
   "source": [
    "print(austin_fixed)"
   ]
  },
  {
   "cell_type": "markdown",
   "metadata": {},
   "source": [
    "#### If your code worked correctly, now we can drop the `Events` column as we don't need it any more."
   ]
  },
  {
   "cell_type": "code",
   "execution_count": 105,
   "metadata": {},
   "outputs": [
    {
     "name": "stdout",
     "output_type": "stream",
     "text": [
      "      Rain  Snow  Fog  Thunderstorm\n",
      "0        1     0    0             1\n",
      "1        0     0    0             0\n",
      "2        0     0    0             0\n",
      "3        0     0    0             0\n",
      "4        0     0    0             0\n",
      "...    ...   ...  ...           ...\n",
      "1314     0     0    0             0\n",
      "1315     0     0    0             0\n",
      "1316     0     0    0             0\n",
      "1317     0     0    0             0\n",
      "1318     0     0    0             0\n",
      "\n",
      "[1319 rows x 4 columns]\n",
      "            Date  TempHighF  TempAvgF  TempLowF  DewPointHighF  DewPointAvgF  \\\n",
      "0     2013-12-21         74        60        45           67.0          49.0   \n",
      "1     2013-12-22         56        48        39           43.0          36.0   \n",
      "2     2013-12-23         58        45        32           31.0          27.0   \n",
      "3     2013-12-24         61        46        31           36.0          28.0   \n",
      "4     2013-12-25         58        50        41           44.0          40.0   \n",
      "...          ...        ...       ...       ...            ...           ...   \n",
      "1314  2017-07-27        103        89        75           71.0          67.0   \n",
      "1315  2017-07-28        105        91        76           71.0          64.0   \n",
      "1316  2017-07-29        107        92        77           72.0          64.0   \n",
      "1317  2017-07-30        106        93        79           70.0          68.0   \n",
      "1318  2017-07-31         99        88        77           66.0          61.0   \n",
      "\n",
      "      DewPointLowF  HumidityHighPercent  HumidityAvgPercent  \\\n",
      "0             43.0                 93.0                75.0   \n",
      "1             28.0                 93.0                68.0   \n",
      "2             23.0                 76.0                52.0   \n",
      "3             21.0                 89.0                56.0   \n",
      "4             36.0                 86.0                71.0   \n",
      "...            ...                  ...                 ...   \n",
      "1314          61.0                 82.0                54.0   \n",
      "1315          55.0                 87.0                54.0   \n",
      "1316          55.0                 82.0                51.0   \n",
      "1317          63.0                 69.0                48.0   \n",
      "1318          54.0                 64.0                43.0   \n",
      "\n",
      "      HumidityLowPercent  SeaLevelPressureHighInches  \\\n",
      "0                   57.0                       29.86   \n",
      "1                   43.0                       30.41   \n",
      "2                   27.0                       30.56   \n",
      "3                   22.0                       30.56   \n",
      "4                   56.0                       30.41   \n",
      "...                  ...                         ...   \n",
      "1314                25.0                       30.04   \n",
      "1315                20.0                       29.97   \n",
      "1316                19.0                       29.91   \n",
      "1317                27.0                       29.96   \n",
      "1318                22.0                       30.04   \n",
      "\n",
      "      SeaLevelPressureAvgInches  SeaLevelPressureLowInches  \\\n",
      "0                         29.68                      29.59   \n",
      "1                         30.13                      29.87   \n",
      "2                         30.49                      30.41   \n",
      "3                         30.45                      30.30   \n",
      "4                         30.33                      30.27   \n",
      "...                         ...                        ...   \n",
      "1314                      29.97                      29.88   \n",
      "1315                      29.90                      29.81   \n",
      "1316                      29.86                      29.79   \n",
      "1317                      29.91                      29.87   \n",
      "1318                      29.97                      29.91   \n",
      "\n",
      "      VisibilityHighMiles  VisibilityAvgMiles  VisibilityLowMiles  \\\n",
      "0                    10.0                 7.0                 2.0   \n",
      "1                    10.0                10.0                 5.0   \n",
      "2                    10.0                10.0                10.0   \n",
      "3                    10.0                10.0                 7.0   \n",
      "4                    10.0                10.0                 7.0   \n",
      "...                   ...                 ...                 ...   \n",
      "1314                 10.0                10.0                10.0   \n",
      "1315                 10.0                10.0                10.0   \n",
      "1316                 10.0                10.0                10.0   \n",
      "1317                 10.0                10.0                10.0   \n",
      "1318                 10.0                10.0                10.0   \n",
      "\n",
      "      WindHighMPH  WindAvgMPH  WindGustMPH  \n",
      "0            20.0         4.0         31.0  \n",
      "1            16.0         6.0         25.0  \n",
      "2             8.0         3.0         12.0  \n",
      "3            12.0         4.0         20.0  \n",
      "4            10.0         2.0         16.0  \n",
      "...           ...         ...          ...  \n",
      "1314         12.0         5.0         21.0  \n",
      "1315         14.0         5.0         20.0  \n",
      "1316         12.0         4.0         17.0  \n",
      "1317         13.0         4.0         20.0  \n",
      "1318         12.0         4.0         20.0  \n",
      "\n",
      "[1319 rows x 19 columns]\n"
     ]
    }
   ],
   "source": [
    "weather = weather.drop(columns=['Events'])\n",
    "print(austin_fixed)\n",
    "print(weather)"
   ]
  },
  {
   "cell_type": "markdown",
   "metadata": {},
   "source": [
    "# Challenge 4 - Processing The `Date` Column\n",
    "\n",
    "The `Date` column is another non-numeric field in our dataset. A value in that field looks like `'2014-01-06'` which consists of the year, month, and day connected with hyphens. One way to convert the date string to numerical is using a similar approach as we used for `Events`, namely splitting the column into numerical `Year`, `Month`, and `Day` columns. In this challenge we'll show you another way which is to use the Python `datetime` library's `toordinal()` function. Depending on what actual machine learning analysis you will conduct, each approach has its pros and cons. Our goal today is to practice data preparation so we'll skip the discussion here.\n",
    "\n",
    "Here you can find the [reference](https://docs.python.org/3/library/datetime.html) and [example](https://stackoverflow.com/questions/39846918/convert-date-to-ordinal-python) for `toordinal`. The basic process is to first convert the string to a `datetime` object using `datetime.datetime.strptime`, then convert the `datetime` object to numerical using `toordinal`.\n",
    "\n",
    "#### In the cell below, convert the `Date` column values from string to numeric values using `toordinal()`."
   ]
  },
  {
   "cell_type": "code",
   "execution_count": 107,
   "metadata": {},
   "outputs": [],
   "source": [
    "weather['Date'] = weather['Date'].apply(lambda x: datetime.strptime(x, '%Y-%m-%d').toordinal())"
   ]
  },
  {
   "cell_type": "markdown",
   "metadata": {},
   "source": [
    "#### Print `austin_fixed` to check your `Date` column."
   ]
  },
  {
   "cell_type": "code",
   "execution_count": 108,
   "metadata": {},
   "outputs": [
    {
     "data": {
      "text/html": [
       "<div>\n",
       "<style scoped>\n",
       "    .dataframe tbody tr th:only-of-type {\n",
       "        vertical-align: middle;\n",
       "    }\n",
       "\n",
       "    .dataframe tbody tr th {\n",
       "        vertical-align: top;\n",
       "    }\n",
       "\n",
       "    .dataframe thead th {\n",
       "        text-align: right;\n",
       "    }\n",
       "</style>\n",
       "<table border=\"1\" class=\"dataframe\">\n",
       "  <thead>\n",
       "    <tr style=\"text-align: right;\">\n",
       "      <th></th>\n",
       "      <th>Rain</th>\n",
       "      <th>Snow</th>\n",
       "      <th>Fog</th>\n",
       "      <th>Thunderstorm</th>\n",
       "    </tr>\n",
       "  </thead>\n",
       "  <tbody>\n",
       "    <tr>\n",
       "      <th>0</th>\n",
       "      <td>1</td>\n",
       "      <td>0</td>\n",
       "      <td>0</td>\n",
       "      <td>1</td>\n",
       "    </tr>\n",
       "    <tr>\n",
       "      <th>1</th>\n",
       "      <td>0</td>\n",
       "      <td>0</td>\n",
       "      <td>0</td>\n",
       "      <td>0</td>\n",
       "    </tr>\n",
       "    <tr>\n",
       "      <th>2</th>\n",
       "      <td>0</td>\n",
       "      <td>0</td>\n",
       "      <td>0</td>\n",
       "      <td>0</td>\n",
       "    </tr>\n",
       "    <tr>\n",
       "      <th>3</th>\n",
       "      <td>0</td>\n",
       "      <td>0</td>\n",
       "      <td>0</td>\n",
       "      <td>0</td>\n",
       "    </tr>\n",
       "    <tr>\n",
       "      <th>4</th>\n",
       "      <td>0</td>\n",
       "      <td>0</td>\n",
       "      <td>0</td>\n",
       "      <td>0</td>\n",
       "    </tr>\n",
       "  </tbody>\n",
       "</table>\n",
       "</div>"
      ],
      "text/plain": [
       "   Rain  Snow  Fog  Thunderstorm\n",
       "0     1     0    0             1\n",
       "1     0     0    0             0\n",
       "2     0     0    0             0\n",
       "3     0     0    0             0\n",
       "4     0     0    0             0"
      ]
     },
     "execution_count": 108,
     "metadata": {},
     "output_type": "execute_result"
    }
   ],
   "source": [
    "austin_fixed.head(5)"
   ]
  },
  {
   "cell_type": "markdown",
   "metadata": {},
   "source": [
    "# Challenge 5 - Sampling and Holdout Sets"
   ]
  },
  {
   "cell_type": "markdown",
   "metadata": {},
   "source": [
    "#### Now that we have processed the data for machine learning, we will separate the data to test and training sets.\n",
    "\n",
    "We first train the model using only the training set. We check our metrics on the training set. We then apply the model to the test set and check our metrics on the test set as well. If the metrics are significantly more optimal on the training set, then we know we have overfit our model. We will need to revise our model to ensure it will be more applicable to data outside the test set."
   ]
  },
  {
   "cell_type": "markdown",
   "metadata": {},
   "source": [
    "#### In the next cells we will separate the data into a training set and a test set using the `train_test_split()` function in scikit-learn.\n",
    "\n",
    "When using `scikit-learn` for machine learning, we first separate the data to predictor and response variables. This is the standard way of passing datasets into a model in `scikit-learn`. The `scikit-learn` will then find out whether the predictors and responses fit the model.\n",
    "\n",
    "In the next cell, assign the `TempAvgF` column to `y` and the remaining columns to `X`. Your `X` should be a subset of `austin_fixed` containing the following columns: \n",
    "\n",
    "```['Date',\n",
    " 'TempHighF',\n",
    " 'TempLowF',\n",
    " 'DewPointHighF',\n",
    " 'DewPointAvgF',\n",
    " 'DewPointLowF',\n",
    " 'HumidityHighPercent',\n",
    " 'HumidityAvgPercent',\n",
    " 'HumidityLowPercent',\n",
    " 'SeaLevelPressureHighInches',\n",
    " 'SeaLevelPressureAvgInches',\n",
    " 'SeaLevelPressureLowInches',\n",
    " 'VisibilityHighMiles',\n",
    " 'VisibilityAvgMiles',\n",
    " 'VisibilityLowMiles',\n",
    " 'WindHighMPH',\n",
    " 'WindAvgMPH',\n",
    " 'WindGustMPH',\n",
    " 'Snow',\n",
    " 'Fog',\n",
    " 'Rain',\n",
    " 'Thunderstorm']```\n",
    " \n",
    " Your `y` should be a subset of `austin_fixed` containing one column `TempAvgF`."
   ]
  },
  {
   "cell_type": "code",
   "execution_count": 117,
   "metadata": {},
   "outputs": [
    {
     "name": "stdout",
     "output_type": "stream",
     "text": [
      "X_train shape: (1055, 18)\n",
      "X_test shape: (264, 18)\n",
      "y_train shape: (1055, 1)\n",
      "y_test shape: (264, 1)\n"
     ]
    }
   ],
   "source": [
    "X = weather[['Date', 'TempHighF', 'TempLowF', 'DewPointHighF', 'DewPointAvgF', 'DewPointLowF',\n",
    "             'HumidityHighPercent', 'HumidityAvgPercent', 'HumidityLowPercent',\n",
    "             'SeaLevelPressureHighInches', 'SeaLevelPressureAvgInches', 'SeaLevelPressureLowInches',\n",
    "             'VisibilityHighMiles', 'VisibilityAvgMiles', 'VisibilityLowMiles',\n",
    "             'WindHighMPH', 'WindAvgMPH', 'WindGustMPH']]\n",
    "y = weather[['TempAvgF']]\n",
    "\n",
    "\n",
    "X_train, X_test, y_train, y_test = train_test_split(X, y, test_size=0.2, random_state=42)\n",
    "\n",
    "\n",
    "print(\"X_train shape:\", X_train.shape)\n",
    "print(\"X_test shape:\", X_test.shape)\n",
    "print(\"y_train shape:\", y_train.shape)\n",
    "print(\"y_test shape:\", y_test.shape)"
   ]
  },
  {
   "cell_type": "markdown",
   "metadata": {},
   "source": [
    "In the next cell, import `train_test_split` from `sklearn.model_selection`"
   ]
  },
  {
   "cell_type": "code",
   "execution_count": 118,
   "metadata": {},
   "outputs": [],
   "source": [
    "from sklearn.model_selection import train_test_split"
   ]
  },
  {
   "cell_type": "markdown",
   "metadata": {},
   "source": [
    "Now that we have split the data to predictor and response variables and imported the `train_test_split()` function, split `X` and `y` into `X_train`, `X_test`, `y_train`, and `y_test`. 80% of the data should be in the training set and 20% in the test set. `train_test_split()` reference can be accessed [here](https://scikit-learn.org/stable/modules/generated/sklearn.model_selection.train_test_split.html).\n",
    "\n",
    "\n",
    "Enter your code in the cell below:"
   ]
  },
  {
   "cell_type": "code",
   "execution_count": 119,
   "metadata": {},
   "outputs": [],
   "source": [
    "X_train, X_test, y_train, y_test = train_test_split(X, y, test_size=0.2, random_state=42)"
   ]
  },
  {
   "cell_type": "markdown",
   "metadata": {},
   "source": [
    "#### Congratulations! Now you have finished the preparation of the dataset!"
   ]
  },
  {
   "cell_type": "markdown",
   "metadata": {},
   "source": [
    "# Bonus Challenge 1\n",
    "\n",
    "#### While the above is the common practice to prepare most datasets, when it comes to time series data, we sometimes do not want to randomly select rows from our dataset.\n",
    "\n",
    "This is because many time series algorithms rely on observations having equal time distances between them. In such cases, we typically select the majority of rows as the test data and the last few rows as the training data. We don't use `train_test_split()` to select the train/test data because it returns random selections.\n",
    "\n",
    "In the following cell, compute the number of rows that account for 80% of our data and round it to the next integer. Assign this number to `ts_rows`."
   ]
  },
  {
   "cell_type": "code",
   "execution_count": 120,
   "metadata": {},
   "outputs": [
    {
     "name": "stdout",
     "output_type": "stream",
     "text": [
      "Number of rows for 80% of the data: 1056\n"
     ]
    }
   ],
   "source": [
    "total_rows = len(weather)\n",
    "ts_rows = int(total_rows * 0.8) + 1\n",
    "print(\"Number of rows for 80% of the data:\", ts_rows)"
   ]
  },
  {
   "cell_type": "markdown",
   "metadata": {},
   "source": [
    "Assign the first `ts_rows` rows of `X` to `X_ts_train` and the remaining rows to `X_ts_test`."
   ]
  },
  {
   "cell_type": "code",
   "execution_count": 121,
   "metadata": {},
   "outputs": [
    {
     "name": "stdout",
     "output_type": "stream",
     "text": [
      "X_ts_train shape: (1056, 18)\n",
      "X_ts_test shape: (263, 18)\n"
     ]
    }
   ],
   "source": [
    "X_ts_train = X.iloc[:ts_rows]\n",
    "X_ts_test = X.iloc[ts_rows:]\n",
    "print(\"X_ts_train shape:\", X_ts_train.shape)\n",
    "print(\"X_ts_test shape:\", X_ts_test.shape)"
   ]
  },
  {
   "cell_type": "markdown",
   "metadata": {},
   "source": [
    "Assign the first `ts_rows` rows of `y` to `y_ts_train` and the remaining rows to `y_ts_test`."
   ]
  },
  {
   "cell_type": "code",
   "execution_count": 122,
   "metadata": {},
   "outputs": [
    {
     "name": "stdout",
     "output_type": "stream",
     "text": [
      "y_ts_train shape: (1056, 1)\n",
      "y_ts_test shape: (263, 1)\n"
     ]
    }
   ],
   "source": [
    "y_ts_train = y.iloc[:ts_rows]\n",
    "y_ts_test = y.iloc[ts_rows:]\n",
    "print(\"y_ts_train shape:\", y_ts_train.shape)\n",
    "print(\"y_ts_test shape:\", y_ts_test.shape)"
   ]
  }
 ],
 "metadata": {
  "kernelspec": {
   "display_name": "Python 3 (ipykernel)",
   "language": "python",
   "name": "python3"
  },
  "language_info": {
   "codemirror_mode": {
    "name": "ipython",
    "version": 3
   },
   "file_extension": ".py",
   "mimetype": "text/x-python",
   "name": "python",
   "nbconvert_exporter": "python",
   "pygments_lexer": "ipython3",
   "version": "3.10.9"
  }
 },
 "nbformat": 4,
 "nbformat_minor": 2
}
