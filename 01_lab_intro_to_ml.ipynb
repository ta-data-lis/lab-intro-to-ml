{
  "cells": [
    {
      "cell_type": "markdown",
      "metadata": {
        "id": "HBs3NgOq9Wdz"
      },
      "source": [
        "# Before your start:\n",
        "- Read the README.md file\n",
        "- Comment as much as you can and use the resources in the README.md file\n",
        "- Happy learning!"
      ]
    },
    {
      "cell_type": "code",
      "source": [
        "# [Linear Interpolation](https://en.wikipedia.org/wiki/Linear_interpolation)\n",
        "# [Missing Data Imputation](http://www.stat.columbia.edu/~gelman/arm/missing.pdf)\n",
        "# [7 Steps to Data Preparation](https://www.kdnuggets.com/2017/06/7-steps-mastering-data-preparation-python.html)"
      ],
      "metadata": {
        "id": "Wcq1kLUo9wsq"
      },
      "execution_count": null,
      "outputs": []
    },
    {
      "cell_type": "code",
      "execution_count": 2,
      "metadata": {
        "id": "IOhXmBFg9Wd3"
      },
      "outputs": [],
      "source": [
        "import pandas as pd\n",
        "import numpy as np\n",
        "import seaborn as sns"
      ]
    },
    {
      "cell_type": "markdown",
      "metadata": {
        "id": "4WRwdht39Wd5"
      },
      "source": [
        "\n",
        "# Challenge 1 - Import and Describe the Dataset"
      ]
    },
    {
      "cell_type": "markdown",
      "metadata": {
        "id": "CqYjtEqX9Wd6"
      },
      "source": [
        "#### In this challenge we will use the `austin_weather` data.\n",
        "\n",
        "#### First, import it into a data frame called `austin`."
      ]
    },
    {
      "cell_type": "code",
      "execution_count": 12,
      "metadata": {
        "id": "mXksJ7929Wd6"
      },
      "outputs": [],
      "source": [
        "austin = pd.read_csv(\"/content/austin_weather.csv\")"
      ]
    },
    {
      "cell_type": "markdown",
      "metadata": {
        "id": "epx_TkNn9Wd7"
      },
      "source": [
        "#### Next, describe the dataset you have loaded:\n",
        "- Look at the variables and their types\n",
        "- Examine the descriptive statistics of the numeric variables\n",
        "- Look at the first five rows of all variables to evaluate the categorical variables as well"
      ]
    },
    {
      "cell_type": "code",
      "execution_count": 4,
      "metadata": {
        "colab": {
          "base_uri": "https://localhost:8080/"
        },
        "id": "54U6fwMN9Wd8",
        "outputId": "5659274c-60aa-4ffb-b3bc-35f23b5a479d"
      },
      "outputs": [
        {
          "output_type": "execute_result",
          "data": {
            "text/plain": [
              "(1319, 21)"
            ]
          },
          "metadata": {},
          "execution_count": 4
        }
      ],
      "source": [
        "austin.shape # always"
      ]
    },
    {
      "cell_type": "code",
      "source": [
        "austin.columns # always"
      ],
      "metadata": {
        "id": "bWHc6qyl-qQq"
      },
      "execution_count": null,
      "outputs": []
    },
    {
      "cell_type": "code",
      "execution_count": null,
      "metadata": {
        "id": "0uHc6exn9Wd8"
      },
      "outputs": [],
      "source": [
        "# Look at the variables and their types\n",
        "austin.dtypes"
      ]
    },
    {
      "cell_type": "code",
      "execution_count": null,
      "metadata": {
        "id": "tVerfi2a9Wd9"
      },
      "outputs": [],
      "source": [
        "# Examine the descriptive statistics of the numeric variables\n",
        "austin.describe()"
      ]
    },
    {
      "cell_type": "code",
      "source": [
        "#Look at the first five rows of all variables to evaluate the categorical variables as well\n",
        "austin.head()"
      ],
      "metadata": {
        "id": "6jAM-Uxh_Yvb",
        "colab": {
          "base_uri": "https://localhost:8080/",
          "height": 342
        },
        "outputId": "9f2cef73-8d72-4940-95b7-7d784a3d74f1"
      },
      "execution_count": 13,
      "outputs": [
        {
          "output_type": "execute_result",
          "data": {
            "text/plain": [
              "         Date  TempHighF  TempAvgF  TempLowF DewPointHighF DewPointAvgF  \\\n",
              "0  2013-12-21         74        60        45            67           49   \n",
              "1  2013-12-22         56        48        39            43           36   \n",
              "2  2013-12-23         58        45        32            31           27   \n",
              "3  2013-12-24         61        46        31            36           28   \n",
              "4  2013-12-25         58        50        41            44           40   \n",
              "\n",
              "  DewPointLowF HumidityHighPercent HumidityAvgPercent HumidityLowPercent  ...  \\\n",
              "0           43                  93                 75                 57  ...   \n",
              "1           28                  93                 68                 43  ...   \n",
              "2           23                  76                 52                 27  ...   \n",
              "3           21                  89                 56                 22  ...   \n",
              "4           36                  86                 71                 56  ...   \n",
              "\n",
              "  SeaLevelPressureAvgInches SeaLevelPressureLowInches VisibilityHighMiles  \\\n",
              "0                     29.68                     29.59                  10   \n",
              "1                     30.13                     29.87                  10   \n",
              "2                     30.49                     30.41                  10   \n",
              "3                     30.45                      30.3                  10   \n",
              "4                     30.33                     30.27                  10   \n",
              "\n",
              "  VisibilityAvgMiles VisibilityLowMiles WindHighMPH WindAvgMPH WindGustMPH  \\\n",
              "0                  7                  2          20          4          31   \n",
              "1                 10                  5          16          6          25   \n",
              "2                 10                 10           8          3          12   \n",
              "3                 10                  7          12          4          20   \n",
              "4                 10                  7          10          2          16   \n",
              "\n",
              "  PrecipitationSumInches               Events  \n",
              "0                   0.46  Rain , Thunderstorm  \n",
              "1                      0                       \n",
              "2                      0                       \n",
              "3                      0                       \n",
              "4                      T                       \n",
              "\n",
              "[5 rows x 21 columns]"
            ],
            "text/html": [
              "\n",
              "  <div id=\"df-42f62610-cb0a-49c8-8714-8833e7e93cc0\" class=\"colab-df-container\">\n",
              "    <div>\n",
              "<style scoped>\n",
              "    .dataframe tbody tr th:only-of-type {\n",
              "        vertical-align: middle;\n",
              "    }\n",
              "\n",
              "    .dataframe tbody tr th {\n",
              "        vertical-align: top;\n",
              "    }\n",
              "\n",
              "    .dataframe thead th {\n",
              "        text-align: right;\n",
              "    }\n",
              "</style>\n",
              "<table border=\"1\" class=\"dataframe\">\n",
              "  <thead>\n",
              "    <tr style=\"text-align: right;\">\n",
              "      <th></th>\n",
              "      <th>Date</th>\n",
              "      <th>TempHighF</th>\n",
              "      <th>TempAvgF</th>\n",
              "      <th>TempLowF</th>\n",
              "      <th>DewPointHighF</th>\n",
              "      <th>DewPointAvgF</th>\n",
              "      <th>DewPointLowF</th>\n",
              "      <th>HumidityHighPercent</th>\n",
              "      <th>HumidityAvgPercent</th>\n",
              "      <th>HumidityLowPercent</th>\n",
              "      <th>...</th>\n",
              "      <th>SeaLevelPressureAvgInches</th>\n",
              "      <th>SeaLevelPressureLowInches</th>\n",
              "      <th>VisibilityHighMiles</th>\n",
              "      <th>VisibilityAvgMiles</th>\n",
              "      <th>VisibilityLowMiles</th>\n",
              "      <th>WindHighMPH</th>\n",
              "      <th>WindAvgMPH</th>\n",
              "      <th>WindGustMPH</th>\n",
              "      <th>PrecipitationSumInches</th>\n",
              "      <th>Events</th>\n",
              "    </tr>\n",
              "  </thead>\n",
              "  <tbody>\n",
              "    <tr>\n",
              "      <th>0</th>\n",
              "      <td>2013-12-21</td>\n",
              "      <td>74</td>\n",
              "      <td>60</td>\n",
              "      <td>45</td>\n",
              "      <td>67</td>\n",
              "      <td>49</td>\n",
              "      <td>43</td>\n",
              "      <td>93</td>\n",
              "      <td>75</td>\n",
              "      <td>57</td>\n",
              "      <td>...</td>\n",
              "      <td>29.68</td>\n",
              "      <td>29.59</td>\n",
              "      <td>10</td>\n",
              "      <td>7</td>\n",
              "      <td>2</td>\n",
              "      <td>20</td>\n",
              "      <td>4</td>\n",
              "      <td>31</td>\n",
              "      <td>0.46</td>\n",
              "      <td>Rain , Thunderstorm</td>\n",
              "    </tr>\n",
              "    <tr>\n",
              "      <th>1</th>\n",
              "      <td>2013-12-22</td>\n",
              "      <td>56</td>\n",
              "      <td>48</td>\n",
              "      <td>39</td>\n",
              "      <td>43</td>\n",
              "      <td>36</td>\n",
              "      <td>28</td>\n",
              "      <td>93</td>\n",
              "      <td>68</td>\n",
              "      <td>43</td>\n",
              "      <td>...</td>\n",
              "      <td>30.13</td>\n",
              "      <td>29.87</td>\n",
              "      <td>10</td>\n",
              "      <td>10</td>\n",
              "      <td>5</td>\n",
              "      <td>16</td>\n",
              "      <td>6</td>\n",
              "      <td>25</td>\n",
              "      <td>0</td>\n",
              "      <td></td>\n",
              "    </tr>\n",
              "    <tr>\n",
              "      <th>2</th>\n",
              "      <td>2013-12-23</td>\n",
              "      <td>58</td>\n",
              "      <td>45</td>\n",
              "      <td>32</td>\n",
              "      <td>31</td>\n",
              "      <td>27</td>\n",
              "      <td>23</td>\n",
              "      <td>76</td>\n",
              "      <td>52</td>\n",
              "      <td>27</td>\n",
              "      <td>...</td>\n",
              "      <td>30.49</td>\n",
              "      <td>30.41</td>\n",
              "      <td>10</td>\n",
              "      <td>10</td>\n",
              "      <td>10</td>\n",
              "      <td>8</td>\n",
              "      <td>3</td>\n",
              "      <td>12</td>\n",
              "      <td>0</td>\n",
              "      <td></td>\n",
              "    </tr>\n",
              "    <tr>\n",
              "      <th>3</th>\n",
              "      <td>2013-12-24</td>\n",
              "      <td>61</td>\n",
              "      <td>46</td>\n",
              "      <td>31</td>\n",
              "      <td>36</td>\n",
              "      <td>28</td>\n",
              "      <td>21</td>\n",
              "      <td>89</td>\n",
              "      <td>56</td>\n",
              "      <td>22</td>\n",
              "      <td>...</td>\n",
              "      <td>30.45</td>\n",
              "      <td>30.3</td>\n",
              "      <td>10</td>\n",
              "      <td>10</td>\n",
              "      <td>7</td>\n",
              "      <td>12</td>\n",
              "      <td>4</td>\n",
              "      <td>20</td>\n",
              "      <td>0</td>\n",
              "      <td></td>\n",
              "    </tr>\n",
              "    <tr>\n",
              "      <th>4</th>\n",
              "      <td>2013-12-25</td>\n",
              "      <td>58</td>\n",
              "      <td>50</td>\n",
              "      <td>41</td>\n",
              "      <td>44</td>\n",
              "      <td>40</td>\n",
              "      <td>36</td>\n",
              "      <td>86</td>\n",
              "      <td>71</td>\n",
              "      <td>56</td>\n",
              "      <td>...</td>\n",
              "      <td>30.33</td>\n",
              "      <td>30.27</td>\n",
              "      <td>10</td>\n",
              "      <td>10</td>\n",
              "      <td>7</td>\n",
              "      <td>10</td>\n",
              "      <td>2</td>\n",
              "      <td>16</td>\n",
              "      <td>T</td>\n",
              "      <td></td>\n",
              "    </tr>\n",
              "  </tbody>\n",
              "</table>\n",
              "<p>5 rows × 21 columns</p>\n",
              "</div>\n",
              "    <div class=\"colab-df-buttons\">\n",
              "\n",
              "  <div class=\"colab-df-container\">\n",
              "    <button class=\"colab-df-convert\" onclick=\"convertToInteractive('df-42f62610-cb0a-49c8-8714-8833e7e93cc0')\"\n",
              "            title=\"Convert this dataframe to an interactive table.\"\n",
              "            style=\"display:none;\">\n",
              "\n",
              "  <svg xmlns=\"http://www.w3.org/2000/svg\" height=\"24px\" viewBox=\"0 -960 960 960\">\n",
              "    <path d=\"M120-120v-720h720v720H120Zm60-500h600v-160H180v160Zm220 220h160v-160H400v160Zm0 220h160v-160H400v160ZM180-400h160v-160H180v160Zm440 0h160v-160H620v160ZM180-180h160v-160H180v160Zm440 0h160v-160H620v160Z\"/>\n",
              "  </svg>\n",
              "    </button>\n",
              "\n",
              "  <style>\n",
              "    .colab-df-container {\n",
              "      display:flex;\n",
              "      gap: 12px;\n",
              "    }\n",
              "\n",
              "    .colab-df-convert {\n",
              "      background-color: #E8F0FE;\n",
              "      border: none;\n",
              "      border-radius: 50%;\n",
              "      cursor: pointer;\n",
              "      display: none;\n",
              "      fill: #1967D2;\n",
              "      height: 32px;\n",
              "      padding: 0 0 0 0;\n",
              "      width: 32px;\n",
              "    }\n",
              "\n",
              "    .colab-df-convert:hover {\n",
              "      background-color: #E2EBFA;\n",
              "      box-shadow: 0px 1px 2px rgba(60, 64, 67, 0.3), 0px 1px 3px 1px rgba(60, 64, 67, 0.15);\n",
              "      fill: #174EA6;\n",
              "    }\n",
              "\n",
              "    .colab-df-buttons div {\n",
              "      margin-bottom: 4px;\n",
              "    }\n",
              "\n",
              "    [theme=dark] .colab-df-convert {\n",
              "      background-color: #3B4455;\n",
              "      fill: #D2E3FC;\n",
              "    }\n",
              "\n",
              "    [theme=dark] .colab-df-convert:hover {\n",
              "      background-color: #434B5C;\n",
              "      box-shadow: 0px 1px 3px 1px rgba(0, 0, 0, 0.15);\n",
              "      filter: drop-shadow(0px 1px 2px rgba(0, 0, 0, 0.3));\n",
              "      fill: #FFFFFF;\n",
              "    }\n",
              "  </style>\n",
              "\n",
              "    <script>\n",
              "      const buttonEl =\n",
              "        document.querySelector('#df-42f62610-cb0a-49c8-8714-8833e7e93cc0 button.colab-df-convert');\n",
              "      buttonEl.style.display =\n",
              "        google.colab.kernel.accessAllowed ? 'block' : 'none';\n",
              "\n",
              "      async function convertToInteractive(key) {\n",
              "        const element = document.querySelector('#df-42f62610-cb0a-49c8-8714-8833e7e93cc0');\n",
              "        const dataTable =\n",
              "          await google.colab.kernel.invokeFunction('convertToInteractive',\n",
              "                                                    [key], {});\n",
              "        if (!dataTable) return;\n",
              "\n",
              "        const docLinkHtml = 'Like what you see? Visit the ' +\n",
              "          '<a target=\"_blank\" href=https://colab.research.google.com/notebooks/data_table.ipynb>data table notebook</a>'\n",
              "          + ' to learn more about interactive tables.';\n",
              "        element.innerHTML = '';\n",
              "        dataTable['output_type'] = 'display_data';\n",
              "        await google.colab.output.renderOutput(dataTable, element);\n",
              "        const docLink = document.createElement('div');\n",
              "        docLink.innerHTML = docLinkHtml;\n",
              "        element.appendChild(docLink);\n",
              "      }\n",
              "    </script>\n",
              "  </div>\n",
              "\n",
              "\n",
              "<div id=\"df-73fb2de2-e952-465b-b020-dc70f4889860\">\n",
              "  <button class=\"colab-df-quickchart\" onclick=\"quickchart('df-73fb2de2-e952-465b-b020-dc70f4889860')\"\n",
              "            title=\"Suggest charts\"\n",
              "            style=\"display:none;\">\n",
              "\n",
              "<svg xmlns=\"http://www.w3.org/2000/svg\" height=\"24px\"viewBox=\"0 0 24 24\"\n",
              "     width=\"24px\">\n",
              "    <g>\n",
              "        <path d=\"M19 3H5c-1.1 0-2 .9-2 2v14c0 1.1.9 2 2 2h14c1.1 0 2-.9 2-2V5c0-1.1-.9-2-2-2zM9 17H7v-7h2v7zm4 0h-2V7h2v10zm4 0h-2v-4h2v4z\"/>\n",
              "    </g>\n",
              "</svg>\n",
              "  </button>\n",
              "\n",
              "<style>\n",
              "  .colab-df-quickchart {\n",
              "      --bg-color: #E8F0FE;\n",
              "      --fill-color: #1967D2;\n",
              "      --hover-bg-color: #E2EBFA;\n",
              "      --hover-fill-color: #174EA6;\n",
              "      --disabled-fill-color: #AAA;\n",
              "      --disabled-bg-color: #DDD;\n",
              "  }\n",
              "\n",
              "  [theme=dark] .colab-df-quickchart {\n",
              "      --bg-color: #3B4455;\n",
              "      --fill-color: #D2E3FC;\n",
              "      --hover-bg-color: #434B5C;\n",
              "      --hover-fill-color: #FFFFFF;\n",
              "      --disabled-bg-color: #3B4455;\n",
              "      --disabled-fill-color: #666;\n",
              "  }\n",
              "\n",
              "  .colab-df-quickchart {\n",
              "    background-color: var(--bg-color);\n",
              "    border: none;\n",
              "    border-radius: 50%;\n",
              "    cursor: pointer;\n",
              "    display: none;\n",
              "    fill: var(--fill-color);\n",
              "    height: 32px;\n",
              "    padding: 0;\n",
              "    width: 32px;\n",
              "  }\n",
              "\n",
              "  .colab-df-quickchart:hover {\n",
              "    background-color: var(--hover-bg-color);\n",
              "    box-shadow: 0 1px 2px rgba(60, 64, 67, 0.3), 0 1px 3px 1px rgba(60, 64, 67, 0.15);\n",
              "    fill: var(--button-hover-fill-color);\n",
              "  }\n",
              "\n",
              "  .colab-df-quickchart-complete:disabled,\n",
              "  .colab-df-quickchart-complete:disabled:hover {\n",
              "    background-color: var(--disabled-bg-color);\n",
              "    fill: var(--disabled-fill-color);\n",
              "    box-shadow: none;\n",
              "  }\n",
              "\n",
              "  .colab-df-spinner {\n",
              "    border: 2px solid var(--fill-color);\n",
              "    border-color: transparent;\n",
              "    border-bottom-color: var(--fill-color);\n",
              "    animation:\n",
              "      spin 1s steps(1) infinite;\n",
              "  }\n",
              "\n",
              "  @keyframes spin {\n",
              "    0% {\n",
              "      border-color: transparent;\n",
              "      border-bottom-color: var(--fill-color);\n",
              "      border-left-color: var(--fill-color);\n",
              "    }\n",
              "    20% {\n",
              "      border-color: transparent;\n",
              "      border-left-color: var(--fill-color);\n",
              "      border-top-color: var(--fill-color);\n",
              "    }\n",
              "    30% {\n",
              "      border-color: transparent;\n",
              "      border-left-color: var(--fill-color);\n",
              "      border-top-color: var(--fill-color);\n",
              "      border-right-color: var(--fill-color);\n",
              "    }\n",
              "    40% {\n",
              "      border-color: transparent;\n",
              "      border-right-color: var(--fill-color);\n",
              "      border-top-color: var(--fill-color);\n",
              "    }\n",
              "    60% {\n",
              "      border-color: transparent;\n",
              "      border-right-color: var(--fill-color);\n",
              "    }\n",
              "    80% {\n",
              "      border-color: transparent;\n",
              "      border-right-color: var(--fill-color);\n",
              "      border-bottom-color: var(--fill-color);\n",
              "    }\n",
              "    90% {\n",
              "      border-color: transparent;\n",
              "      border-bottom-color: var(--fill-color);\n",
              "    }\n",
              "  }\n",
              "</style>\n",
              "\n",
              "  <script>\n",
              "    async function quickchart(key) {\n",
              "      const quickchartButtonEl =\n",
              "        document.querySelector('#' + key + ' button');\n",
              "      quickchartButtonEl.disabled = true;  // To prevent multiple clicks.\n",
              "      quickchartButtonEl.classList.add('colab-df-spinner');\n",
              "      try {\n",
              "        const charts = await google.colab.kernel.invokeFunction(\n",
              "            'suggestCharts', [key], {});\n",
              "      } catch (error) {\n",
              "        console.error('Error during call to suggestCharts:', error);\n",
              "      }\n",
              "      quickchartButtonEl.classList.remove('colab-df-spinner');\n",
              "      quickchartButtonEl.classList.add('colab-df-quickchart-complete');\n",
              "    }\n",
              "    (() => {\n",
              "      let quickchartButtonEl =\n",
              "        document.querySelector('#df-73fb2de2-e952-465b-b020-dc70f4889860 button');\n",
              "      quickchartButtonEl.style.display =\n",
              "        google.colab.kernel.accessAllowed ? 'block' : 'none';\n",
              "    })();\n",
              "  </script>\n",
              "</div>\n",
              "    </div>\n",
              "  </div>\n"
            ]
          },
          "metadata": {},
          "execution_count": 13
        }
      ]
    },
    {
      "cell_type": "markdown",
      "metadata": {
        "id": "mos9SbpR9Wd9"
      },
      "source": [
        "#### Given the information you have learned from examining the dataset, write down three insights about the data in a markdown cell below"
      ]
    },
    {
      "cell_type": "code",
      "source": [
        "# 1. A lot of numeric columns, but diferent scales (percentages, temperatures, sea level, Wind High MPH - djisus\t)\n",
        "\n",
        "# 2. Date column is defined as object:\n",
        "austin[\"Date\"] = pd.to_datetime(austin[\"Date\"])\n",
        "# not anymore.\n",
        "first_day = austin[\"Date\"].min()\n",
        "last_day = austin[\"Date\"].max()\n",
        "print(\"My data is since\",first_day,\"until\",last_day)\n",
        "\n",
        "# 3. Only temperatures are numerical and are not even floats ... :/"
      ],
      "metadata": {
        "id": "GY00TOTf_zHL",
        "colab": {
          "base_uri": "https://localhost:8080/"
        },
        "outputId": "2d1404d8-e600-4772-88b4-60e3b45f2398"
      },
      "execution_count": 14,
      "outputs": [
        {
          "output_type": "stream",
          "name": "stdout",
          "text": [
            "My data is since 2013-12-21 00:00:00 until 2017-07-31 00:00:00\n"
          ]
        }
      ]
    },
    {
      "cell_type": "markdown",
      "metadata": {
        "id": "ra8XAHTM9Wd-"
      },
      "source": [
        "#### Your Insights:\n",
        "\n",
        "1. There are 21 variables in the dataset. 3 of them are numeric and the rest contain some text.\n",
        "\n",
        "2. The average temperature in Austin ranged between around 70 degrees F and around 93 degrees F. The highest temperature observed during this period was 107 degrees F and the lowest was 19 degrees F.\n",
        "\n",
        "3. When we look at the head function, we see that a lot of variables contain numeric data even though these columns are of object type. This means we might have to do some data cleansing.\n"
      ]
    },
    {
      "cell_type": "markdown",
      "metadata": {
        "id": "boAhQXxp9Wd-"
      },
      "source": [
        "#### Let's examine the DewPointAvgF variable by using the `unique()` function to list all unique values in this dataframe.\n",
        "\n",
        "Describe what you find in a markdown cell below the code. What did you notice? What do you think made Pandas to treat this column as *object* instead of *int64*?"
      ]
    },
    {
      "cell_type": "code",
      "execution_count": 15,
      "metadata": {
        "id": "_qx--kgf9Wd-",
        "colab": {
          "base_uri": "https://localhost:8080/"
        },
        "outputId": "1ac9b08d-ae23-4058-ace2-06f18982cd1a"
      },
      "outputs": [
        {
          "output_type": "execute_result",
          "data": {
            "text/plain": [
              "array(['49', '36', '27', '28', '40', '39', '41', '26', '42', '22', '48',\n",
              "       '32', '8', '11', '45', '55', '61', '37', '47', '25', '23', '20',\n",
              "       '33', '30', '29', '17', '14', '13', '54', '59', '15', '24', '34',\n",
              "       '35', '57', '50', '53', '60', '46', '56', '51', '31', '38', '62',\n",
              "       '43', '63', '64', '67', '66', '58', '70', '68', '65', '69', '71',\n",
              "       '72', '-', '73', '74', '21', '44', '52', '12', '75', '76', '18'],\n",
              "      dtype=object)"
            ]
          },
          "metadata": {},
          "execution_count": 15
        }
      ],
      "source": [
        "austin[\"DewPointAvgF\"].unique()"
      ]
    },
    {
      "cell_type": "code",
      "execution_count": null,
      "metadata": {
        "id": "CujikXYf9WeB"
      },
      "outputs": [],
      "source": [
        "# https://stackoverflow.com/questions/44530047/why-is-my-numeric-data-being-treated-as-an-object\n",
        "\n",
        "# DataFrame in Pandas being will be treated as an object when the data is actually numeric, if it contains certain values within the columns\n",
        "# that are not numeric for example, that litlle \"-\" which is probably better to convert to NaN."
      ]
    },
    {
      "cell_type": "markdown",
      "metadata": {
        "id": "VwWIezAn9WeC"
      },
      "source": [
        "The following is a list of columns misrepresented as `object`. Use this list to convert the columns to numeric using the `pandas.to_numeric` function in the next cell. If you encounter errors in converting strings to numeric values, you need to catch those errors and force the conversion by supplying `errors='coerce'` as an argument for `pandas.to_numeric`. Coercing will replace non-convertable elements with `NaN` which represents an undefined numeric value. This makes it possible for us to conveniently handle missing values in subsequent data processing.\n",
        "\n",
        "*Hint: you may use a loop to change one column at a time but it is more efficient to use `apply`.*"
      ]
    },
    {
      "cell_type": "code",
      "execution_count": 17,
      "metadata": {
        "id": "uKjtuoBM9WeD"
      },
      "outputs": [],
      "source": [
        "wrong_type_columns = ['DewPointHighF', 'DewPointAvgF', 'DewPointLowF', 'HumidityHighPercent',\n",
        "                      'HumidityAvgPercent', 'HumidityLowPercent', 'SeaLevelPressureHighInches',\n",
        "                      'SeaLevelPressureAvgInches' ,'SeaLevelPressureLowInches', 'VisibilityHighMiles',\n",
        "                      'VisibilityAvgMiles', 'VisibilityLowMiles', 'WindHighMPH', 'WindAvgMPH',\n",
        "                      'WindGustMPH', 'PrecipitationSumInches']"
      ]
    },
    {
      "cell_type": "code",
      "execution_count": null,
      "metadata": {
        "id": "PZ4zi0mE9WeD"
      },
      "outputs": [],
      "source": [
        "austin[wrong_type_columns] = austin[wrong_type_columns].apply(pd.to_numeric, errors = \"coerce\") # errors='coerce' as an argument for pandas.to_numeric\n",
        "austin[wrong_type_columns].dtypes\n",
        "austin.dtypes"
      ]
    },
    {
      "cell_type": "markdown",
      "metadata": {
        "id": "AAKY45IF9WeE"
      },
      "source": [
        "#### Check if your code has worked by printing the data types again. You should see only two `object` columns (`Date` and `Events`) now. All other columns should be `int64` or `float64`."
      ]
    },
    {
      "cell_type": "code",
      "execution_count": null,
      "metadata": {
        "id": "OC-D1uEM9WeE"
      },
      "outputs": [],
      "source": [
        "# ops, let's see if I need to change date again.\n",
        "austin.dtypes"
      ]
    },
    {
      "cell_type": "markdown",
      "metadata": {
        "id": "fl2ijZxb9WeF"
      },
      "source": [
        "# Challenge 2 - Handle the Missing Data"
      ]
    },
    {
      "cell_type": "markdown",
      "metadata": {
        "id": "ajvjL80W9WeF"
      },
      "source": [
        "#### Now that we have fixed the type mismatch, let's address the missing data.\n",
        "\n",
        "By coercing the columns to numeric, we have created `NaN` for each cell containing characters. We should choose a strategy to address these missing data.\n",
        "\n",
        "The first step is to examine how many rows contain missing data.\n",
        "\n",
        "We check how much missing data we have by applying the `.isnull()` function to our dataset. To find the rows with missing data in any of its cells, we apply `.any(axis=1)` to the function. `austin.isnull().any(axis=1)` will return a column containing true if the row contains at least one missing value and false otherwise. Therefore we must subset our dataframe with this column. This will give us all rows with at least one missing value.\n",
        "\n",
        "#### In the next cell, identify all rows containing at least one missing value. Assign the dataframes with missing values to a variable called `missing_values`."
      ]
    },
    {
      "cell_type": "code",
      "execution_count": null,
      "metadata": {
        "id": "jjJyFQVA9WeG"
      },
      "outputs": [],
      "source": [
        "missing_values = austin[austin.isnull().any(axis=1)] # there is at least one NaN in each of these rows.\n",
        "missing_values"
      ]
    },
    {
      "cell_type": "markdown",
      "metadata": {
        "id": "pnOPMN_a9WeG"
      },
      "source": [
        "There are multiple strategies to handle missing data. Below lists the most common ones data scientists use:\n",
        "\n",
        "* Removing all rows or all columns containing missing data. This is the simplest strategy. It may work in some cases but not others.\n",
        "\n",
        "* Filling all missing values with a placeholder value.\n",
        "    * For categorical data, `0`, `-1`, and `9999` are some commonly used placeholder values.\n",
        "    * For continuous data, some may opt to fill all missing data with the mean. This strategy is not optimal since it can increase the fit of the model.\n",
        "\n",
        "* Filling the values using some algorithm.\n",
        "\n",
        "#### In our case, we will use a hybrid approach which is to first remove the data that contain most missing values then fill in the rest of the missing values with the *linear interpolation* algorithm."
      ]
    },
    {
      "cell_type": "markdown",
      "metadata": {
        "id": "onZFWJ799WeH"
      },
      "source": [
        "#### Next, count the number of rows of `austin` and `missing_values`."
      ]
    },
    {
      "cell_type": "code",
      "execution_count": null,
      "metadata": {
        "id": "GKvbXLID9WeH"
      },
      "outputs": [],
      "source": [
        "print(\"Number of rows is\", austin.shape[0])\n",
        "print(\"Missing values in each column is:\")\n",
        "austin.isnull().sum()"
      ]
    },
    {
      "cell_type": "markdown",
      "metadata": {
        "id": "LyLmgbL-9WeI"
      },
      "source": [
        "#### Calculate the ratio of missing rows to total rows"
      ]
    },
    {
      "cell_type": "code",
      "execution_count": 21,
      "metadata": {
        "colab": {
          "base_uri": "https://localhost:8080/"
        },
        "id": "j0KZGifw9WeI",
        "outputId": "f0697514-0c2f-4d14-806f-db1d8f17a173"
      },
      "outputs": [
        {
          "output_type": "stream",
          "name": "stdout",
          "text": [
            "If we drop the nulls we will lose 10.310841546626232 % of the data\n"
          ]
        }
      ],
      "source": [
        "# To find the rows with missing data in any of its cells, we apply .any(axis=1) to the function. austin.isnull().any(axis=1)\n",
        "missing_row_wise = austin.isnull().any(axis=1).sum() # then sum those b*tch*s\n",
        "missing_row_wise\n",
        "\n",
        "ratio_row_wise = missing_row_wise/austin.shape[0]\n",
        "print(\"If we drop the nulls we will lose\",ratio_row_wise*100,\"% of the data\")"
      ]
    },
    {
      "cell_type": "markdown",
      "metadata": {
        "id": "2qpXqaQ59WeJ"
      },
      "source": [
        "As you can see, there is a large proportion of missing data (over 10%). Perhaps we should evaluate which columns have the most missing data and remove those columns. For the remaining columns, we will perform a linear approximation of the missing data.\n",
        "\n",
        "We can find the number of missing rows in each column using the `.isna()` function. We then chain the `.sum` function to the `.isna()` function and find the number of missing rows per column"
      ]
    },
    {
      "cell_type": "code",
      "execution_count": null,
      "metadata": {
        "id": "9aw3A-TS9WeK"
      },
      "outputs": [],
      "source": [
        "austin_columns = austin.columns\n",
        "\n",
        "for column in austin_columns:\n",
        "    missing_rows = austin[column].isna().sum()\n",
        "    print(f\"Missing values in {column}:{missing_rows}\")"
      ]
    },
    {
      "cell_type": "markdown",
      "metadata": {
        "id": "mtZN0Phq9WeL"
      },
      "source": [
        "#### As you can see from the output, the majority of missing data is in one column called `PrecipitationSumInches`. What's the number of missing values in this column in ratio to its total number of rows?"
      ]
    },
    {
      "cell_type": "code",
      "execution_count": 23,
      "metadata": {
        "colab": {
          "base_uri": "https://localhost:8080/"
        },
        "id": "4i83zDnW9WeM",
        "outputId": "3875faff-9ceb-438f-fd0f-005362d4908b"
      },
      "outputs": [
        {
          "output_type": "stream",
          "name": "stdout",
          "text": [
            "ratio of missing values is 9.401061410159212 %\n"
          ]
        }
      ],
      "source": [
        "austin[\"PrecipitationSumInches\"].isnull().sum()\n",
        "\n",
        "ratio = austin[\"PrecipitationSumInches\"].isnull().sum()/ austin.shape[0]\n",
        "\n",
        "print(\"ratio of missing values is\", ratio*100,\"%\")\n"
      ]
    },
    {
      "cell_type": "markdown",
      "metadata": {
        "id": "R6xs19lR9WeM"
      },
      "source": [
        "Almost 10% data missing! Therefore, we prefer to remove this column instead of filling its missing values.\n",
        "\n",
        "#### Remove this column from `austin` using the `.drop()` function. Use the `inplace=True` argument.\n",
        "\n",
        "*Hints:*\n",
        "\n",
        "* By supplying `inplace=True` to `drop()`, the original dataframe object will be changed in place and the function will return `None`. In contrast, if you don't supply `inplace=True`, which is equivalent to supplying `inplace=False` because `False` is the default value, the original dataframe object will be kept and the function returns a copy of the transformed dataframe object. In the latter case, you'll have to assign the returned object back to your variable.\n",
        "\n",
        "* Also, since you are dropping a column instead of a row, you'll need to supply `axis=1` to `drop()`.\n",
        "\n",
        "[Reference for `pandas.DataFrame.drop`](https://pandas.pydata.org/pandas-docs/stable/generated/pandas.DataFrame.drop.html)"
      ]
    },
    {
      "cell_type": "code",
      "execution_count": 24,
      "metadata": {
        "id": "ffJqXYco9WeN"
      },
      "outputs": [],
      "source": [
        "austin.drop(\"PrecipitationSumInches\", axis = 1, inplace = True)"
      ]
    },
    {
      "cell_type": "code",
      "source": [
        "austin.head()"
      ],
      "metadata": {
        "id": "n8Cwnx1qUI3f"
      },
      "execution_count": null,
      "outputs": []
    },
    {
      "cell_type": "markdown",
      "metadata": {
        "id": "J1JTlqFy9WeN"
      },
      "source": [
        "#### Next we will perform linear interpolation of the missing data.\n",
        "\n",
        "This means that we will use a linear algorithm to estimate the missing data. Linear interpolation assumes that there is a straight line between the points and the missing point will fall on that line. This is a good enough approximation for weather related data. Weather related data is typically a time series. Therefore, we do not want to drop rows from our data if possible. It is prefereable to estimate the missing values rather than remove the rows. However, if you have data from a single point in time, perhaps a better solution would be to remove the rows.\n",
        "\n",
        "If you would like to read more about linear interpolation, you can do so [here](https://en.wikipedia.org/wiki/Linear_interpolation).\n",
        "\n",
        "In the following cell, use the `.interpolate()` function on the entire dataframe. This time pass the `inplace=False` argument to the function and assign the interpolated dataframe to a new variable called `austin_fixed` so that we can compare with `austin`."
      ]
    },
    {
      "cell_type": "code",
      "execution_count": null,
      "metadata": {
        "id": "o2rkXNhR9WeO"
      },
      "outputs": [],
      "source": [
        "# How exciting, the interpolation that I thought would not be usefull in Intro to Spicy . hooorray!\n",
        "\n",
        "# syntax: austin_fixed = austin.interpolate(method='linear', axis=0, inplace=False)\n",
        "# Fill NaN values using an interpolation method. Please note that only method='linear' is supported for DataFrame/Series with a MultiIndex.\n",
        "# If ‘limit’ is not specified:If ‘method’ is ‘backfill’ or ‘bfill’, the default is ‘backward’."
      ]
    },
    {
      "cell_type": "code",
      "source": [
        "austin_fixed = austin.interpolate(method = \"backfill\", axis = 1, inplace = False)\n",
        "austin_fixed.head()"
      ],
      "metadata": {
        "id": "bTRWxA1SgHyz"
      },
      "execution_count": null,
      "outputs": []
    },
    {
      "cell_type": "markdown",
      "metadata": {
        "id": "6It1MNYe9WeO"
      },
      "source": [
        "#### Check to make sure `austin_fixed` contains no missing data. Also check `austin` - it still contains missing data."
      ]
    },
    {
      "cell_type": "code",
      "execution_count": null,
      "metadata": {
        "id": "cBI2Wrmy9WeP"
      },
      "outputs": [],
      "source": [
        "print(\"Austin_fixed nulls presence is\")\n",
        "austin_fixed.isnull().sum()\n",
        "# actually very proud of this right now. Thank you white chocolate milka cookie!"
      ]
    },
    {
      "cell_type": "code",
      "source": [
        "print(\"Austin original nulls presence is\") # did poop here, changed original too.\n",
        "austin.isnull().sum()"
      ],
      "metadata": {
        "id": "OESc9_QclAX9"
      },
      "execution_count": null,
      "outputs": []
    },
    {
      "cell_type": "code",
      "source": [
        "austin = pd.read_csv(\"/content/austin_weather.csv\")\n",
        "austin.isnull().sum() # major p..."
      ],
      "metadata": {
        "id": "zNL5RJDwm_Mt"
      },
      "execution_count": null,
      "outputs": []
    },
    {
      "cell_type": "markdown",
      "metadata": {
        "id": "_anRTG3J9WeP"
      },
      "source": [
        "# Challenge 3 - Processing the `Events` Column"
      ]
    },
    {
      "cell_type": "markdown",
      "metadata": {
        "id": "4eVELINJ9WeQ"
      },
      "source": [
        "#### Our dataframe contains one true text column - the Events column. We should evaluate this column to determine how to process it.\n",
        "\n",
        "Use the `value_counts()` function to evaluate the contents of this column"
      ]
    },
    {
      "cell_type": "code",
      "execution_count": null,
      "metadata": {
        "id": "4fgj91bR9Wej"
      },
      "outputs": [],
      "source": [
        "austin_fixed[\"Events\"].value_counts()"
      ]
    },
    {
      "cell_type": "markdown",
      "metadata": {
        "id": "NExhSiHI9Wej"
      },
      "source": [
        "Reading the values of `Events` and reflecting what those values mean in the context of data, you realize this column indicates what weather events had happened in a particular day.\n",
        "\n",
        "#### What is the largest number of events happened in a single day? Enter your answer in the next cell."
      ]
    },
    {
      "cell_type": "code",
      "source": [
        "# Fog, Rain, Thunderstorm"
      ],
      "metadata": {
        "id": "498oSqFoqGDK"
      },
      "execution_count": null,
      "outputs": []
    },
    {
      "cell_type": "markdown",
      "metadata": {
        "id": "XLjSBKyh9Wek"
      },
      "source": [
        "#### We want to transform the string-type `Events` values to the numbers. This will allow us to apply machine learning algorithms easily.\n",
        "\n",
        "How? We will create a new column for each type of events (i.e. *Rain*, *Snow*, *Fog*, *Thunderstorm*. In each column, we use `1` to indicate if the corresponding event happened in that day and use `0` otherwise.\n",
        "\n",
        "Below we provide you a list of all event types. Loop the list and create a dummy column with `0` values for each event in `austin_fixed`. To create a new dummy column with `0` values, simply use `austin_fixed[event] = 0`."
      ]
    },
    {
      "cell_type": "code",
      "source": [
        "event_list = ['Snow', 'Fog', 'Rain', 'Thunderstorm']\n",
        "\n",
        "for event in event_list:\n",
        "    austin_fixed[event] = 0"
      ],
      "metadata": {
        "id": "nUuH8xi7yhOd"
      },
      "execution_count": 38,
      "outputs": []
    },
    {
      "cell_type": "markdown",
      "metadata": {
        "id": "W6tGU0bq9Wel"
      },
      "source": [
        "#### Next, populate the actual values in the dummy columns of  `austin_fixed`.\n",
        "\n",
        "You will check the *Events* column. If its string value contains `Rain`, then the *Rain* column should be `1`. The same for `Snow`, `Fog`, and `Thunderstorm`.\n",
        "\n",
        "*Hints:*\n",
        "\n",
        "* Use [`pandas.Series.str.contains()`](https://pandas.pydata.org/pandas-docs/stable/generated/pandas.Series.str.contains.html) to create the value series of each new column.\n",
        "\n",
        "* What if the values you populated are booleans instead of numbers? You can cast the boolean values to numbers by using `.astype(int)`. For instance, `pd.Series([True, True, False]).astype(int)` will return a new series with values of `[1, 1, 0]`."
      ]
    },
    {
      "cell_type": "code",
      "execution_count": 39,
      "metadata": {
        "id": "R39Vvavg9Wel"
      },
      "outputs": [],
      "source": [
        "# Series.str.contains(pat, case=True, na=None)[source]\n",
        "\n",
        "for event in event_list:\n",
        "    austin_fixed[event] = 0\n",
        "    austin_fixed[event] = austin_fixed[\"Events\"].str.contains(event, case = True, na = False).astype(int)"
      ]
    },
    {
      "cell_type": "markdown",
      "metadata": {
        "id": "m768_zRb9Wem"
      },
      "source": [
        "#### Print out `austin_fixed` to check if the event columns are populated with the intended values"
      ]
    },
    {
      "cell_type": "code",
      "source": [
        "austin_fixed"
      ],
      "metadata": {
        "id": "pQHF-5U7riar"
      },
      "execution_count": null,
      "outputs": []
    },
    {
      "cell_type": "markdown",
      "metadata": {
        "id": "2vRpLoW09Wen"
      },
      "source": [
        "#### If your code worked correctly, now we can drop the `Events` column as we don't need it any more."
      ]
    },
    {
      "cell_type": "code",
      "execution_count": 41,
      "metadata": {
        "id": "BqeN-kdF9Weo"
      },
      "outputs": [],
      "source": [
        "# cross your fingers.\n",
        "austin_fixed.drop(\"Events\", axis = 1, inplace = True)"
      ]
    },
    {
      "cell_type": "code",
      "source": [
        "austin_fixed"
      ],
      "metadata": {
        "id": "ni9FiQ1z0P1s"
      },
      "execution_count": null,
      "outputs": []
    },
    {
      "cell_type": "markdown",
      "metadata": {
        "id": "AKhfVo599Weo"
      },
      "source": [
        "# Challenge 4 - Processing The `Date` Column\n",
        "\n",
        "The `Date` column is another non-numeric field in our dataset. A value in that field looks like `'2014-01-06'` which consists of the year, month, and day connected with hyphens. One way to convert the date string to numerical is using a similar approach as we used for `Events`, namely splitting the column into numerical `Year`, `Month`, and `Day` columns. In this challenge we'll show you another way which is to use the Python `datetime` library's `toordinal()` function. Depending on what actual machine learning analysis you will conduct, each approach has its pros and cons. Our goal today is to practice data preparation so we'll skip the discussion here.\n",
        "\n",
        "Here you can find the [reference](https://docs.python.org/3/library/datetime.html) and [example](https://stackoverflow.com/questions/39846918/convert-date-to-ordinal-python) for `toordinal`. The basic process is to first convert the string to a `datetime` object using `datetime.datetime.strptime`, then convert the `datetime` object to numerical using `toordinal`.\n",
        "\n",
        "#### In the cell below, convert the `Date` column values from string to numeric values using `toordinal()`."
      ]
    },
    {
      "cell_type": "code",
      "execution_count": 43,
      "metadata": {
        "id": "wNo1BI8o9Weo"
      },
      "outputs": [],
      "source": [
        "# sad trombone\n",
        "\n",
        "from datetime import datetime as dt\n",
        "\n",
        "austin_fixed[\"Date\"] = [dt.strptime(str(date.date()), \"%Y-%m-%d\").toordinal() for date in austin_fixed[\"Date\"]]\n",
        "\n",
        "# what the (gasps) is toordinal?\n",
        "#The proleptic Gregorian calendar is an extension of the Gregorian calendar that extends the same rules backward and forward in time.\n",
        "# The proleptic Gregorian ordinal is the position of a date within this calendar, with January 1 of year 1 being the first day"
      ]
    },
    {
      "cell_type": "markdown",
      "metadata": {
        "id": "m9Ws7Qiw9Weo"
      },
      "source": [
        "#### Print `austin_fixed` to check your `Date` column."
      ]
    },
    {
      "cell_type": "code",
      "execution_count": null,
      "metadata": {
        "id": "NAEU5S9-9Wep"
      },
      "outputs": [],
      "source": [
        "austin_fixed.head(5)"
      ]
    },
    {
      "cell_type": "markdown",
      "metadata": {
        "id": "e0IfdO049Weq"
      },
      "source": [
        "# Challenge 5 - Sampling and Holdout Sets"
      ]
    },
    {
      "cell_type": "markdown",
      "metadata": {
        "id": "eJpztdhL9Weq"
      },
      "source": [
        "#### Now that we have processed the data for machine learning, we will separate the data to test and training sets.\n",
        "\n",
        "We first train the model using only the training set. We check our metrics on the training set. We then apply the model to the test set and check our metrics on the test set as well. If the metrics are significantly more optimal on the training set, then we know we have overfit our model. We will need to revise our model to ensure it will be more applicable to data outside the test set."
      ]
    },
    {
      "cell_type": "markdown",
      "metadata": {
        "id": "vam_UVS79Wer"
      },
      "source": [
        "#### In the next cells we will separate the data into a training set and a test set using the `train_test_split()` function in scikit-learn.\n",
        "\n",
        "When using `scikit-learn` for machine learning, we first separate the data to predictor and response variables. This is the standard way of passing datasets into a model in `scikit-learn`. The `scikit-learn` will then find out whether the predictors and responses fit the model.\n",
        "\n",
        "In the next cell, assign the `TempAvgF` column to `y` and the remaining columns to `X`. Your `X` should be a subset of `austin_fixed` containing the following columns:\n",
        "\n",
        "```['Date',\n",
        " 'TempHighF',\n",
        " 'TempLowF',\n",
        " 'DewPointHighF',\n",
        " 'DewPointAvgF',\n",
        " 'DewPointLowF',\n",
        " 'HumidityHighPercent',\n",
        " 'HumidityAvgPercent',\n",
        " 'HumidityLowPercent',\n",
        " 'SeaLevelPressureHighInches',\n",
        " 'SeaLevelPressureAvgInches',\n",
        " 'SeaLevelPressureLowInches',\n",
        " 'VisibilityHighMiles',\n",
        " 'VisibilityAvgMiles',\n",
        " 'VisibilityLowMiles',\n",
        " 'WindHighMPH',\n",
        " 'WindAvgMPH',\n",
        " 'WindGustMPH',\n",
        " 'Snow',\n",
        " 'Fog',\n",
        " 'Rain',\n",
        " 'Thunderstorm']```\n",
        "\n",
        " Your `y` should be a subset of `austin_fixed` containing one column `TempAvgF`."
      ]
    },
    {
      "cell_type": "code",
      "execution_count": null,
      "metadata": {
        "id": "S3wjXYJc9Wer"
      },
      "outputs": [],
      "source": [
        "features = austin_fixed.drop(columns = [\"TempAvgF\"]) ## selecting all columns except salary, so it's full salary but dropping our target\n",
        "target = austin_fixed[\"TempAvgF\"] #y                 ## selecting  salary as our target variable"
      ]
    },
    {
      "cell_type": "markdown",
      "metadata": {
        "id": "86zuWPvH9Wes"
      },
      "source": [
        "In the next cell, import `train_test_split` from `sklearn.model_selection`"
      ]
    },
    {
      "cell_type": "code",
      "execution_count": null,
      "metadata": {
        "id": "t-KCXpT89Wes"
      },
      "outputs": [],
      "source": [
        "# scikit-learn == sklearn\n",
        "from sklearn.model_selection import train_test_split"
      ]
    },
    {
      "cell_type": "markdown",
      "metadata": {
        "id": "sE6G_TiR9Wes"
      },
      "source": [
        "Now that we have split the data to predictor and response variables and imported the `train_test_split()` function, split `X` and `y` into `X_train`, `X_test`, `y_train`, and `y_test`. 80% of the data should be in the training set and 20% in the test set. `train_test_split()` reference can be accessed [here](https://scikit-learn.org/stable/modules/generated/sklearn.model_selection.train_test_split.html).\n",
        "\n",
        "\n",
        "Enter your code in the cell below:"
      ]
    },
    {
      "cell_type": "code",
      "execution_count": null,
      "metadata": {
        "id": "5vB1pTBF9Wet"
      },
      "outputs": [],
      "source": [
        "#train test split\n",
        "X_train, X_test, y_train ,y_test = train_test_split(features, target, random_state = 0, test_size = 0.20)"
      ]
    },
    {
      "cell_type": "markdown",
      "metadata": {
        "id": "iUYJQK019Wet"
      },
      "source": [
        "#### Congratulations! Now you have finished the preparation of the dataset!"
      ]
    },
    {
      "cell_type": "markdown",
      "metadata": {
        "id": "hXB8StG39Wet"
      },
      "source": [
        "# Bonus Challenge 1\n",
        "\n",
        "#### While the above is the common practice to prepare most datasets, when it comes to time series data, we sometimes do not want to randomly select rows from our dataset.\n",
        "\n",
        "This is because many time series algorithms rely on observations having equal time distances between them. In such cases, we typically select the majority of rows as the test data and the last few rows as the training data. We don't use `train_test_split()` to select the train/test data because it returns random selections.\n",
        "\n",
        "In the following cell, compute the number of rows that account for 80% of our data and round it to the next integer. Assign this number to `ts_rows`."
      ]
    },
    {
      "cell_type": "code",
      "execution_count": null,
      "metadata": {
        "id": "tkwGb6Tj9Weu"
      },
      "outputs": [],
      "source": [
        "# Your code here:\n"
      ]
    },
    {
      "cell_type": "markdown",
      "metadata": {
        "id": "j3_QGVMA9Wev"
      },
      "source": [
        "Assign the first `ts_rows` rows of `X` to `X_ts_train` and the remaining rows to `X_ts_test`."
      ]
    },
    {
      "cell_type": "code",
      "execution_count": null,
      "metadata": {
        "id": "kRe2_G099Wew"
      },
      "outputs": [],
      "source": [
        "# Your code here:\n"
      ]
    },
    {
      "cell_type": "markdown",
      "metadata": {
        "id": "6Qsr6Dum9Wew"
      },
      "source": [
        "Assign the first `ts_rows` rows of `y` to `y_ts_train` and the remaining rows to `y_ts_test`."
      ]
    },
    {
      "cell_type": "code",
      "execution_count": null,
      "metadata": {
        "id": "alrEmBOH9Wew"
      },
      "outputs": [],
      "source": [
        "# Your code here:\n"
      ]
    }
  ],
  "metadata": {
    "kernelspec": {
      "display_name": "Python 3",
      "language": "python",
      "name": "python3"
    },
    "language_info": {
      "codemirror_mode": {
        "name": "ipython",
        "version": 3
      },
      "file_extension": ".py",
      "mimetype": "text/x-python",
      "name": "python",
      "nbconvert_exporter": "python",
      "pygments_lexer": "ipython3",
      "version": "3.6.9"
    },
    "colab": {
      "provenance": []
    }
  },
  "nbformat": 4,
  "nbformat_minor": 0
}